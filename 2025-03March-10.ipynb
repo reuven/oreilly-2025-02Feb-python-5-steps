{
 "cells": [
  {
   "cell_type": "markdown",
   "metadata": {},
   "source": [
    "# Agenda, week 5: Modules and packages\n",
    "\n",
    "1. Q&A\n",
    "2. What is a module?\n",
    "    - Why do we want/need them?\n",
    "    - What do they contain?\n",
    "    - Using `import` to use a module's contents\n",
    "3. The different forms of `import`\n",
    "4. Developing our own module -- what's involved?\n",
    "5. Python's standard library\n",
    "    - What is it?\n",
    "    - What does it contain?\n",
    "    - How can we use it?\n",
    "    - Library vs. builtins\n",
    "6. Modules vs. packages\n",
    "7. PyPI and pip\n",
    "    - Downloading and installing packages from PyPI\n",
    "    - Finding good vs. bad packages on PyPI\n",
    "    - How do we use them?\n",
    "8. What next?\n",
    "    - Where can you learn more Python skills?\n",
    "    - How can/should you learn more Python skills?\n",
    "    - Practice, books, videos, strategies\n",
    "    - And: Ask me anything!\n"
   ]
  },
  {
   "cell_type": "markdown",
   "metadata": {},
   "source": [
    "# What is a module?\n",
    "\n",
    "DRY -- the rule of \"don't repeat yourself.\"\n",
    "\n",
    "1. If you have several lines of code that are almost the same, then you can replace them with a loop.\n",
    "2. If you have code that repeats itself in several places in your program, then you can replace them with a function.\n",
    "3. If you have code that repeats itself in several different programs, then you can use a *library*.\n",
    "\n",
    "Every programming language supports libraries. This way:\n",
    "\n",
    "- If you have code that you'll use in several programs, you can write it once, and use it many times. (You can also debug it once, and have those fixes/improvements automatically get to be used in all programs at once.)\n",
    "- You can write a library that other people will use, so that they don't have to reinvent the wheel.\n",
    "- The reverse is true: You can use a library that other people have written, so that you don't have to reinvent the wheel.\n",
    "\n",
    "In Python, we call our libraries *modules*. Modules provide us with all of these advantages.\n",
    "\n",
    "(Sometimes, we call it a package. We'll talk about that later. Spoiler: A package is a directory/folder containing multiple module files.)\n",
    "\n",
    "In addition to these advantages, Python modules also act as *namespaces*. The idea is that each module can define variables and functions with the same names, and they won't conflict with one another. A namespace is kind of like a last name for variables/functions. It means that we aren't going to have a \"namespace collision.\"\n",
    "\n",
    "It's a rare Python program that doesn't use any modules."
   ]
  },
  {
   "cell_type": "markdown",
   "metadata": {},
   "source": [
    "# What does a module contain?\n",
    "\n",
    "Any Python code we want, but mostly/usually, it'll contain definitions:\n",
    "\n",
    "- Variable definitions, for things we'll want to use frequently\n",
    "- Function definitions, for functions we'll want to use frequently\n",
    "- Class definitions, if you (or someone else) wants to define new types of data structures.\n",
    "\n"
   ]
  },
  {
   "cell_type": "code",
   "execution_count": null,
   "metadata": {},
   "outputs": [],
   "source": []
  }
 ],
 "metadata": {
  "kernelspec": {
   "display_name": "Python 3 (ipykernel)",
   "language": "python",
   "name": "python3"
  },
  "language_info": {
   "codemirror_mode": {
    "name": "ipython",
    "version": 3
   },
   "file_extension": ".py",
   "mimetype": "text/x-python",
   "name": "python",
   "nbconvert_exporter": "python",
   "pygments_lexer": "ipython3",
   "version": "3.13.2"
  }
 },
 "nbformat": 4,
 "nbformat_minor": 4
}
