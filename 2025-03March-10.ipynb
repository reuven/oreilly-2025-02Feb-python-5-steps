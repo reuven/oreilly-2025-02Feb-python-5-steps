{
 "cells": [
  {
   "cell_type": "markdown",
   "metadata": {},
   "source": [
    "# Agenda, week 5: Modules and packages\n",
    "\n",
    "1. Q&A\n",
    "2. What is a module?\n",
    "    - Why do we want/need them?\n",
    "    - What do they contain?\n",
    "    - Using `import` to use a module's contents\n",
    "3. The different forms of `import`\n",
    "4. Developing our own module -- what's involved?\n",
    "5. Python's standard library\n",
    "    - What is it?\n",
    "    - What does it contain?\n",
    "    - How can we use it?\n",
    "    - Library vs. builtins\n",
    "6. Modules vs. packages\n",
    "7. PyPI and pip\n",
    "    - Downloading and installing packages from PyPI\n",
    "    - Finding good vs. bad packages on PyPI\n",
    "    - How do we use them?\n",
    "8. What next?\n",
    "    - Where can you learn more Python skills?\n",
    "    - How can/should you learn more Python skills?\n",
    "    - Practice, books, videos, strategies\n",
    "    - And: Ask me anything!\n"
   ]
  },
  {
   "cell_type": "markdown",
   "metadata": {},
   "source": [
    "# What is a module?\n",
    "\n",
    "DRY -- the rule of \"don't repeat yourself.\"\n",
    "\n",
    "1. If you have several lines of code that are almost the same, then you can replace them with a loop.\n",
    "2. If you have code that repeats itself in several places in your program, then you can replace them with a function.\n",
    "3. If you have code that repeats itself in several different programs, then you can use a *library*.\n",
    "\n",
    "Every programming language supports libraries. This way:\n",
    "\n",
    "- If you have code that you'll use in several programs, you can write it once, and use it many times. (You can also debug it once, and have those fixes/improvements automatically get to be used in all programs at once.)\n",
    "- You can write a library that other people will use, so that they don't have to reinvent the wheel.\n",
    "- The reverse is true: You can use a library that other people have written, so that you don't have to reinvent the wheel.\n",
    "\n",
    "In Python, we call our libraries *modules*. Modules provide us with all of these advantages.\n",
    "\n",
    "(Sometimes, we call it a package. We'll talk about that later. Spoiler: A package is a directory/folder containing multiple module files.)\n",
    "\n",
    "In addition to these advantages, Python modules also act as *namespaces*. The idea is that each module can define variables and functions with the same names, and they won't conflict with one another. A namespace is kind of like a last name for variables/functions. It means that we aren't going to have a \"namespace collision.\"\n",
    "\n",
    "It's a rare Python program that doesn't use any modules."
   ]
  },
  {
   "cell_type": "markdown",
   "metadata": {},
   "source": [
    "# What does a module contain?\n",
    "\n",
    "Any Python code we want, but mostly/usually, it'll contain definitions:\n",
    "\n",
    "- Variable definitions, for things we'll want to use frequently\n",
    "- Function definitions, for functions we'll want to use frequently\n",
    "- Class definitions, if you (or someone else) wants to define new types of data structures.\n",
    "\n",
    "We load a module using the `import` statement, and that gives us access to those variables, functions, and classes."
   ]
  },
  {
   "cell_type": "markdown",
   "metadata": {},
   "source": [
    "# Example: The `random` module\n",
    "\n",
    "If I want a random number, then I could write my own random-number generating function. But that's going to be very hard and time consuming, if I can even get it right.\n",
    "\n",
    "Instead, I can use the `random` module that comes with Python (in the \"standard library\"), and I can use it.\n",
    "\n",
    "If I want to load this module, I use the `import` statement."
   ]
  },
  {
   "cell_type": "code",
   "execution_count": 1,
   "metadata": {},
   "outputs": [],
   "source": [
    "import random"
   ]
  },
  {
   "cell_type": "markdown",
   "metadata": {},
   "source": [
    "I just imported the `random` module!\n",
    "\n",
    "- `import` is a reserved keyword in Python; you cannot use it as a variable or function name.\n",
    "- It is not a function! It is a statement. That's why you don't need to use `()` around the module name.\n",
    "- The module name that we put after `import` is *not* a string! It is not a filename! In many other programming languages, we load a module by stating the name of the file we want to load. In Python, we say what module variable we want to define, and Python figures out what filename we want from that.\n",
    "- After this line, `random` is a variable that we have defined, and it contains a module value.\n",
    "- Once we've imported the module, it is available to our program as much as we want.\n",
    "\n",
    "But how do I use the module? \n",
    "\n",
    "A module is a container for other values -- variables, functions, and data types. Each of those names is available via the module by adding a `.` to the module name and then giving the name of the variable, function, or data type we want.\n",
    "\n",
    "For example, there's a function called `randint` in the `random` module. To invoke it, we say\n",
    "\n",
    "    random.randint(0, 100)    # this returns a random number from 0 through 100\n",
    "\n",
    "    "
   ]
  },
  {
   "cell_type": "code",
   "execution_count": 4,
   "metadata": {},
   "outputs": [
    {
     "data": {
      "text/plain": [
       "86"
      ]
     },
     "execution_count": 4,
     "metadata": {},
     "output_type": "execute_result"
    }
   ],
   "source": [
    "random.randint(0, 100)"
   ]
  },
  {
   "cell_type": "markdown",
   "metadata": {},
   "source": [
    "# How do I know what names are in a module?\n",
    "\n",
    "A few possibilities:\n",
    "\n",
    "1. If we're in Jupyter (or the equivalent), we can use the `dir` function on a module to get a list of names that are available on it.\n",
    "    - names in `ALL CAPS` are \"constants,\" meaning that you shouldn't change their values\n",
    "    - names that `_start` with one `_` are considered \"private,\" meaning that you shouldn't use them unless you are willing to risk things, because they could change\n",
    "    - names that `__start_and_end__` with a double `__` are mostly for internal use, although you can use/set them if you know what you're doing\n",
    "    - We still don't know what are functions vs. values vs. data types without investigating more.\n",
    "2. Use the `help` function on our module to get its documentation.\n",
    "3. Go to the Python documentation, at https://docs.python.org, and read about the module\n",
    "4. If you're using a Python editor like PyCharm or VSCode, then hovering over the module name will let you get documentation for it, either inside of the editor or via a link to a Web site."
   ]
  },
  {
   "cell_type": "code",
   "execution_count": 5,
   "metadata": {},
   "outputs": [
    {
     "data": {
      "text/plain": [
       "['BPF',\n",
       " 'LOG4',\n",
       " 'NV_MAGICCONST',\n",
       " 'RECIP_BPF',\n",
       " 'Random',\n",
       " 'SG_MAGICCONST',\n",
       " 'SystemRandom',\n",
       " 'TWOPI',\n",
       " '_ONE',\n",
       " '_Sequence',\n",
       " '__all__',\n",
       " '__builtins__',\n",
       " '__cached__',\n",
       " '__doc__',\n",
       " '__file__',\n",
       " '__loader__',\n",
       " '__name__',\n",
       " '__package__',\n",
       " '__spec__',\n",
       " '_accumulate',\n",
       " '_acos',\n",
       " '_bisect',\n",
       " '_ceil',\n",
       " '_cos',\n",
       " '_e',\n",
       " '_exp',\n",
       " '_fabs',\n",
       " '_floor',\n",
       " '_index',\n",
       " '_inst',\n",
       " '_isfinite',\n",
       " '_lgamma',\n",
       " '_log',\n",
       " '_log2',\n",
       " '_os',\n",
       " '_parse_args',\n",
       " '_pi',\n",
       " '_random',\n",
       " '_repeat',\n",
       " '_sha512',\n",
       " '_sin',\n",
       " '_sqrt',\n",
       " '_test',\n",
       " '_test_generator',\n",
       " '_urandom',\n",
       " 'betavariate',\n",
       " 'binomialvariate',\n",
       " 'choice',\n",
       " 'choices',\n",
       " 'expovariate',\n",
       " 'gammavariate',\n",
       " 'gauss',\n",
       " 'getrandbits',\n",
       " 'getstate',\n",
       " 'lognormvariate',\n",
       " 'main',\n",
       " 'normalvariate',\n",
       " 'paretovariate',\n",
       " 'randbytes',\n",
       " 'randint',\n",
       " 'random',\n",
       " 'randrange',\n",
       " 'sample',\n",
       " 'seed',\n",
       " 'setstate',\n",
       " 'shuffle',\n",
       " 'triangular',\n",
       " 'uniform',\n",
       " 'vonmisesvariate',\n",
       " 'weibullvariate']"
      ]
     },
     "execution_count": 5,
     "metadata": {},
     "output_type": "execute_result"
    }
   ],
   "source": [
    "dir(random)"
   ]
  },
  {
   "cell_type": "code",
   "execution_count": 6,
   "metadata": {
    "scrolled": true
   },
   "outputs": [
    {
     "name": "stdout",
     "output_type": "stream",
     "text": [
      "Help on module random:\n",
      "\n",
      "NAME\n",
      "    random - Random variable generators.\n",
      "\n",
      "MODULE REFERENCE\n",
      "    https://docs.python.org/3.13/library/random.html\n",
      "\n",
      "    The following documentation is automatically generated from the Python\n",
      "    source files.  It may be incomplete, incorrect or include features that\n",
      "    are considered implementation detail and may vary between Python\n",
      "    implementations.  When in doubt, consult the module reference at the\n",
      "    location listed above.\n",
      "\n",
      "DESCRIPTION\n",
      "        bytes\n",
      "        -----\n",
      "               uniform bytes (values between 0 and 255)\n",
      "\n",
      "        integers\n",
      "        --------\n",
      "               uniform within range\n",
      "\n",
      "        sequences\n",
      "        ---------\n",
      "               pick random element\n",
      "               pick random sample\n",
      "               pick weighted random sample\n",
      "               generate random permutation\n",
      "\n",
      "        distributions on the real line:\n",
      "        ------------------------------\n",
      "               uniform\n",
      "               triangular\n",
      "               normal (Gaussian)\n",
      "               lognormal\n",
      "               negative exponential\n",
      "               gamma\n",
      "               beta\n",
      "               pareto\n",
      "               Weibull\n",
      "\n",
      "        distributions on the circle (angles 0 to 2pi)\n",
      "        ---------------------------------------------\n",
      "               circular uniform\n",
      "               von Mises\n",
      "\n",
      "        discrete distributions\n",
      "        ----------------------\n",
      "               binomial\n",
      "\n",
      "\n",
      "    General notes on the underlying Mersenne Twister core generator:\n",
      "\n",
      "    * The period is 2**19937-1.\n",
      "    * It is one of the most extensively tested generators in existence.\n",
      "    * The random() method is implemented in C, executes in a single Python step,\n",
      "      and is, therefore, threadsafe.\n",
      "\n",
      "CLASSES\n",
      "    _random.Random(builtins.object)\n",
      "        Random\n",
      "            SystemRandom\n",
      "\n",
      "    class Random(_random.Random)\n",
      "     |  Random(x=None)\n",
      "     |\n",
      "     |  Random number generator base class used by bound module functions.\n",
      "     |\n",
      "     |  Used to instantiate instances of Random to get generators that don't\n",
      "     |  share state.\n",
      "     |\n",
      "     |  Class Random can also be subclassed if you want to use a different basic\n",
      "     |  generator of your own devising: in that case, override the following\n",
      "     |  methods:  random(), seed(), getstate(), and setstate().\n",
      "     |  Optionally, implement a getrandbits() method so that randrange()\n",
      "     |  can cover arbitrarily large ranges.\n",
      "     |\n",
      "     |  Method resolution order:\n",
      "     |      Random\n",
      "     |      _random.Random\n",
      "     |      builtins.object\n",
      "     |\n",
      "     |  Methods defined here:\n",
      "     |\n",
      "     |  __getstate__(self)\n",
      "     |      Helper for pickle.\n",
      "     |\n",
      "     |  __init__(self, x=None)\n",
      "     |      Initialize an instance.\n",
      "     |\n",
      "     |      Optional argument x controls seeding, as for Random.seed().\n",
      "     |\n",
      "     |  __reduce__(self)\n",
      "     |      Helper for pickle.\n",
      "     |\n",
      "     |  __setstate__(self, state)\n",
      "     |\n",
      "     |  betavariate(self, alpha, beta)\n",
      "     |      Beta distribution.\n",
      "     |\n",
      "     |      Conditions on the parameters are alpha > 0 and beta > 0.\n",
      "     |      Returned values range between 0 and 1.\n",
      "     |\n",
      "     |      The mean (expected value) and variance of the random variable are:\n",
      "     |\n",
      "     |          E[X] = alpha / (alpha + beta)\n",
      "     |          Var[X] = alpha * beta / ((alpha + beta)**2 * (alpha + beta + 1))\n",
      "     |\n",
      "     |  binomialvariate(self, n=1, p=0.5)\n",
      "     |      Binomial random variable.\n",
      "     |\n",
      "     |      Gives the number of successes for *n* independent trials\n",
      "     |      with the probability of success in each trial being *p*:\n",
      "     |\n",
      "     |          sum(random() < p for i in range(n))\n",
      "     |\n",
      "     |      Returns an integer in the range:   0 <= X <= n\n",
      "     |\n",
      "     |      The mean (expected value) and variance of the random variable are:\n",
      "     |\n",
      "     |          E[X] = n * p\n",
      "     |          Var[x] = n * p * (1 - p)\n",
      "     |\n",
      "     |  choice(self, seq)\n",
      "     |      Choose a random element from a non-empty sequence.\n",
      "     |\n",
      "     |  choices(self, population, weights=None, *, cum_weights=None, k=1)\n",
      "     |      Return a k sized list of population elements chosen with replacement.\n",
      "     |\n",
      "     |      If the relative weights or cumulative weights are not specified,\n",
      "     |      the selections are made with equal probability.\n",
      "     |\n",
      "     |  expovariate(self, lambd=1.0)\n",
      "     |      Exponential distribution.\n",
      "     |\n",
      "     |      lambd is 1.0 divided by the desired mean.  It should be\n",
      "     |      nonzero.  (The parameter would be called \"lambda\", but that is\n",
      "     |      a reserved word in Python.)  Returned values range from 0 to\n",
      "     |      positive infinity if lambd is positive, and from negative\n",
      "     |      infinity to 0 if lambd is negative.\n",
      "     |\n",
      "     |      The mean (expected value) and variance of the random variable are:\n",
      "     |\n",
      "     |          E[X] = 1 / lambd\n",
      "     |          Var[X] = 1 / lambd ** 2\n",
      "     |\n",
      "     |  gammavariate(self, alpha, beta)\n",
      "     |      Gamma distribution.  Not the gamma function!\n",
      "     |\n",
      "     |      Conditions on the parameters are alpha > 0 and beta > 0.\n",
      "     |\n",
      "     |      The probability distribution function is:\n",
      "     |\n",
      "     |                  x ** (alpha - 1) * math.exp(-x / beta)\n",
      "     |        pdf(x) =  --------------------------------------\n",
      "     |                    math.gamma(alpha) * beta ** alpha\n",
      "     |\n",
      "     |      The mean (expected value) and variance of the random variable are:\n",
      "     |\n",
      "     |          E[X] = alpha * beta\n",
      "     |          Var[X] = alpha * beta ** 2\n",
      "     |\n",
      "     |  gauss(self, mu=0.0, sigma=1.0)\n",
      "     |      Gaussian distribution.\n",
      "     |\n",
      "     |      mu is the mean, and sigma is the standard deviation.  This is\n",
      "     |      slightly faster than the normalvariate() function.\n",
      "     |\n",
      "     |      Not thread-safe without a lock around calls.\n",
      "     |\n",
      "     |  getstate(self)\n",
      "     |      Return internal state; can be passed to setstate() later.\n",
      "     |\n",
      "     |  lognormvariate(self, mu, sigma)\n",
      "     |      Log normal distribution.\n",
      "     |\n",
      "     |      If you take the natural logarithm of this distribution, you'll get a\n",
      "     |      normal distribution with mean mu and standard deviation sigma.\n",
      "     |      mu can have any value, and sigma must be greater than zero.\n",
      "     |\n",
      "     |  normalvariate(self, mu=0.0, sigma=1.0)\n",
      "     |      Normal distribution.\n",
      "     |\n",
      "     |      mu is the mean, and sigma is the standard deviation.\n",
      "     |\n",
      "     |  paretovariate(self, alpha)\n",
      "     |      Pareto distribution.  alpha is the shape parameter.\n",
      "     |\n",
      "     |  randbytes(self, n)\n",
      "     |      Generate n random bytes.\n",
      "     |\n",
      "     |  randint(self, a, b)\n",
      "     |      Return random integer in range [a, b], including both end points.\n",
      "     |\n",
      "     |  randrange(self, start, stop=None, step=1)\n",
      "     |      Choose a random item from range(stop) or range(start, stop[, step]).\n",
      "     |\n",
      "     |      Roughly equivalent to ``choice(range(start, stop, step))`` but\n",
      "     |      supports arbitrarily large ranges and is optimized for common cases.\n",
      "     |\n",
      "     |  sample(self, population, k, *, counts=None)\n",
      "     |      Chooses k unique random elements from a population sequence.\n",
      "     |\n",
      "     |      Returns a new list containing elements from the population while\n",
      "     |      leaving the original population unchanged.  The resulting list is\n",
      "     |      in selection order so that all sub-slices will also be valid random\n",
      "     |      samples.  This allows raffle winners (the sample) to be partitioned\n",
      "     |      into grand prize and second place winners (the subslices).\n",
      "     |\n",
      "     |      Members of the population need not be hashable or unique.  If the\n",
      "     |      population contains repeats, then each occurrence is a possible\n",
      "     |      selection in the sample.\n",
      "     |\n",
      "     |      Repeated elements can be specified one at a time or with the optional\n",
      "     |      counts parameter.  For example:\n",
      "     |\n",
      "     |          sample(['red', 'blue'], counts=[4, 2], k=5)\n",
      "     |\n",
      "     |      is equivalent to:\n",
      "     |\n",
      "     |          sample(['red', 'red', 'red', 'red', 'blue', 'blue'], k=5)\n",
      "     |\n",
      "     |      To choose a sample from a range of integers, use range() for the\n",
      "     |      population argument.  This is especially fast and space efficient\n",
      "     |      for sampling from a large population:\n",
      "     |\n",
      "     |          sample(range(10000000), 60)\n",
      "     |\n",
      "     |  seed(self, a=None, version=2)\n",
      "     |      Initialize internal state from a seed.\n",
      "     |\n",
      "     |      The only supported seed types are None, int, float,\n",
      "     |      str, bytes, and bytearray.\n",
      "     |\n",
      "     |      None or no argument seeds from current time or from an operating\n",
      "     |      system specific randomness source if available.\n",
      "     |\n",
      "     |      If *a* is an int, all bits are used.\n",
      "     |\n",
      "     |      For version 2 (the default), all of the bits are used if *a* is a str,\n",
      "     |      bytes, or bytearray.  For version 1 (provided for reproducing random\n",
      "     |      sequences from older versions of Python), the algorithm for str and\n",
      "     |      bytes generates a narrower range of seeds.\n",
      "     |\n",
      "     |  setstate(self, state)\n",
      "     |      Restore internal state from object returned by getstate().\n",
      "     |\n",
      "     |  shuffle(self, x)\n",
      "     |      Shuffle list x in place, and return None.\n",
      "     |\n",
      "     |  triangular(self, low=0.0, high=1.0, mode=None)\n",
      "     |      Triangular distribution.\n",
      "     |\n",
      "     |      Continuous distribution bounded by given lower and upper limits,\n",
      "     |      and having a given mode value in-between.\n",
      "     |\n",
      "     |      http://en.wikipedia.org/wiki/Triangular_distribution\n",
      "     |\n",
      "     |      The mean (expected value) and variance of the random variable are:\n",
      "     |\n",
      "     |          E[X] = (low + high + mode) / 3\n",
      "     |          Var[X] = (low**2 + high**2 + mode**2 - low*high - low*mode - high*mode) / 18\n",
      "     |\n",
      "     |  uniform(self, a, b)\n",
      "     |      Get a random number in the range [a, b) or [a, b] depending on rounding.\n",
      "     |\n",
      "     |      The mean (expected value) and variance of the random variable are:\n",
      "     |\n",
      "     |          E[X] = (a + b) / 2\n",
      "     |          Var[X] = (b - a) ** 2 / 12\n",
      "     |\n",
      "     |  vonmisesvariate(self, mu, kappa)\n",
      "     |      Circular data distribution.\n",
      "     |\n",
      "     |      mu is the mean angle, expressed in radians between 0 and 2*pi, and\n",
      "     |      kappa is the concentration parameter, which must be greater than or\n",
      "     |      equal to zero.  If kappa is equal to zero, this distribution reduces\n",
      "     |      to a uniform random angle over the range 0 to 2*pi.\n",
      "     |\n",
      "     |  weibullvariate(self, alpha, beta)\n",
      "     |      Weibull distribution.\n",
      "     |\n",
      "     |      alpha is the scale parameter and beta is the shape parameter.\n",
      "     |\n",
      "     |  ----------------------------------------------------------------------\n",
      "     |  Class methods defined here:\n",
      "     |\n",
      "     |  __init_subclass__(**kwargs)\n",
      "     |      Control how subclasses generate random integers.\n",
      "     |\n",
      "     |      The algorithm a subclass can use depends on the random() and/or\n",
      "     |      getrandbits() implementation available to it and determines\n",
      "     |      whether it can generate random integers from arbitrarily large\n",
      "     |      ranges.\n",
      "     |\n",
      "     |  ----------------------------------------------------------------------\n",
      "     |  Data descriptors defined here:\n",
      "     |\n",
      "     |  __dict__\n",
      "     |      dictionary for instance variables\n",
      "     |\n",
      "     |  __weakref__\n",
      "     |      list of weak references to the object\n",
      "     |\n",
      "     |  ----------------------------------------------------------------------\n",
      "     |  Data and other attributes defined here:\n",
      "     |\n",
      "     |  VERSION = 3\n",
      "     |\n",
      "     |  ----------------------------------------------------------------------\n",
      "     |  Methods inherited from _random.Random:\n",
      "     |\n",
      "     |  getrandbits(self, k, /)\n",
      "     |      getrandbits(k) -> x.  Generates an int with k random bits.\n",
      "     |\n",
      "     |  random(self, /)\n",
      "     |      random() -> x in the interval [0, 1).\n",
      "     |\n",
      "     |  ----------------------------------------------------------------------\n",
      "     |  Static methods inherited from _random.Random:\n",
      "     |\n",
      "     |  __new__(*args, **kwargs) class method of _random.Random\n",
      "     |      Create and return a new object.  See help(type) for accurate signature.\n",
      "\n",
      "    class SystemRandom(Random)\n",
      "     |  SystemRandom(x=None)\n",
      "     |\n",
      "     |  Alternate random number generator using sources provided\n",
      "     |  by the operating system (such as /dev/urandom on Unix or\n",
      "     |  CryptGenRandom on Windows).\n",
      "     |\n",
      "     |   Not available on all systems (see os.urandom() for details).\n",
      "     |\n",
      "     |  Method resolution order:\n",
      "     |      SystemRandom\n",
      "     |      Random\n",
      "     |      _random.Random\n",
      "     |      builtins.object\n",
      "     |\n",
      "     |  Methods defined here:\n",
      "     |\n",
      "     |  getrandbits(self, k)\n",
      "     |      getrandbits(k) -> x.  Generates an int with k random bits.\n",
      "     |\n",
      "     |  getstate = _notimplemented(self, *args, **kwds)\n",
      "     |\n",
      "     |  randbytes(self, n)\n",
      "     |      Generate n random bytes.\n",
      "     |\n",
      "     |  random(self)\n",
      "     |      Get the next random number in the range 0.0 <= X < 1.0.\n",
      "     |\n",
      "     |  seed(self, *args, **kwds)\n",
      "     |      Stub method.  Not used for a system random number generator.\n",
      "     |\n",
      "     |  setstate = _notimplemented(self, *args, **kwds)\n",
      "     |\n",
      "     |  ----------------------------------------------------------------------\n",
      "     |  Methods inherited from Random:\n",
      "     |\n",
      "     |  __getstate__(self)\n",
      "     |      Helper for pickle.\n",
      "     |\n",
      "     |  __init__(self, x=None)\n",
      "     |      Initialize an instance.\n",
      "     |\n",
      "     |      Optional argument x controls seeding, as for Random.seed().\n",
      "     |\n",
      "     |  __reduce__(self)\n",
      "     |      Helper for pickle.\n",
      "     |\n",
      "     |  __setstate__(self, state)\n",
      "     |\n",
      "     |  betavariate(self, alpha, beta)\n",
      "     |      Beta distribution.\n",
      "     |\n",
      "     |      Conditions on the parameters are alpha > 0 and beta > 0.\n",
      "     |      Returned values range between 0 and 1.\n",
      "     |\n",
      "     |      The mean (expected value) and variance of the random variable are:\n",
      "     |\n",
      "     |          E[X] = alpha / (alpha + beta)\n",
      "     |          Var[X] = alpha * beta / ((alpha + beta)**2 * (alpha + beta + 1))\n",
      "     |\n",
      "     |  binomialvariate(self, n=1, p=0.5)\n",
      "     |      Binomial random variable.\n",
      "     |\n",
      "     |      Gives the number of successes for *n* independent trials\n",
      "     |      with the probability of success in each trial being *p*:\n",
      "     |\n",
      "     |          sum(random() < p for i in range(n))\n",
      "     |\n",
      "     |      Returns an integer in the range:   0 <= X <= n\n",
      "     |\n",
      "     |      The mean (expected value) and variance of the random variable are:\n",
      "     |\n",
      "     |          E[X] = n * p\n",
      "     |          Var[x] = n * p * (1 - p)\n",
      "     |\n",
      "     |  choice(self, seq)\n",
      "     |      Choose a random element from a non-empty sequence.\n",
      "     |\n",
      "     |  choices(self, population, weights=None, *, cum_weights=None, k=1)\n",
      "     |      Return a k sized list of population elements chosen with replacement.\n",
      "     |\n",
      "     |      If the relative weights or cumulative weights are not specified,\n",
      "     |      the selections are made with equal probability.\n",
      "     |\n",
      "     |  expovariate(self, lambd=1.0)\n",
      "     |      Exponential distribution.\n",
      "     |\n",
      "     |      lambd is 1.0 divided by the desired mean.  It should be\n",
      "     |      nonzero.  (The parameter would be called \"lambda\", but that is\n",
      "     |      a reserved word in Python.)  Returned values range from 0 to\n",
      "     |      positive infinity if lambd is positive, and from negative\n",
      "     |      infinity to 0 if lambd is negative.\n",
      "     |\n",
      "     |      The mean (expected value) and variance of the random variable are:\n",
      "     |\n",
      "     |          E[X] = 1 / lambd\n",
      "     |          Var[X] = 1 / lambd ** 2\n",
      "     |\n",
      "     |  gammavariate(self, alpha, beta)\n",
      "     |      Gamma distribution.  Not the gamma function!\n",
      "     |\n",
      "     |      Conditions on the parameters are alpha > 0 and beta > 0.\n",
      "     |\n",
      "     |      The probability distribution function is:\n",
      "     |\n",
      "     |                  x ** (alpha - 1) * math.exp(-x / beta)\n",
      "     |        pdf(x) =  --------------------------------------\n",
      "     |                    math.gamma(alpha) * beta ** alpha\n",
      "     |\n",
      "     |      The mean (expected value) and variance of the random variable are:\n",
      "     |\n",
      "     |          E[X] = alpha * beta\n",
      "     |          Var[X] = alpha * beta ** 2\n",
      "     |\n",
      "     |  gauss(self, mu=0.0, sigma=1.0)\n",
      "     |      Gaussian distribution.\n",
      "     |\n",
      "     |      mu is the mean, and sigma is the standard deviation.  This is\n",
      "     |      slightly faster than the normalvariate() function.\n",
      "     |\n",
      "     |      Not thread-safe without a lock around calls.\n",
      "     |\n",
      "     |  lognormvariate(self, mu, sigma)\n",
      "     |      Log normal distribution.\n",
      "     |\n",
      "     |      If you take the natural logarithm of this distribution, you'll get a\n",
      "     |      normal distribution with mean mu and standard deviation sigma.\n",
      "     |      mu can have any value, and sigma must be greater than zero.\n",
      "     |\n",
      "     |  normalvariate(self, mu=0.0, sigma=1.0)\n",
      "     |      Normal distribution.\n",
      "     |\n",
      "     |      mu is the mean, and sigma is the standard deviation.\n",
      "     |\n",
      "     |  paretovariate(self, alpha)\n",
      "     |      Pareto distribution.  alpha is the shape parameter.\n",
      "     |\n",
      "     |  randint(self, a, b)\n",
      "     |      Return random integer in range [a, b], including both end points.\n",
      "     |\n",
      "     |  randrange(self, start, stop=None, step=1)\n",
      "     |      Choose a random item from range(stop) or range(start, stop[, step]).\n",
      "     |\n",
      "     |      Roughly equivalent to ``choice(range(start, stop, step))`` but\n",
      "     |      supports arbitrarily large ranges and is optimized for common cases.\n",
      "     |\n",
      "     |  sample(self, population, k, *, counts=None)\n",
      "     |      Chooses k unique random elements from a population sequence.\n",
      "     |\n",
      "     |      Returns a new list containing elements from the population while\n",
      "     |      leaving the original population unchanged.  The resulting list is\n",
      "     |      in selection order so that all sub-slices will also be valid random\n",
      "     |      samples.  This allows raffle winners (the sample) to be partitioned\n",
      "     |      into grand prize and second place winners (the subslices).\n",
      "     |\n",
      "     |      Members of the population need not be hashable or unique.  If the\n",
      "     |      population contains repeats, then each occurrence is a possible\n",
      "     |      selection in the sample.\n",
      "     |\n",
      "     |      Repeated elements can be specified one at a time or with the optional\n",
      "     |      counts parameter.  For example:\n",
      "     |\n",
      "     |          sample(['red', 'blue'], counts=[4, 2], k=5)\n",
      "     |\n",
      "     |      is equivalent to:\n",
      "     |\n",
      "     |          sample(['red', 'red', 'red', 'red', 'blue', 'blue'], k=5)\n",
      "     |\n",
      "     |      To choose a sample from a range of integers, use range() for the\n",
      "     |      population argument.  This is especially fast and space efficient\n",
      "     |      for sampling from a large population:\n",
      "     |\n",
      "     |          sample(range(10000000), 60)\n",
      "     |\n",
      "     |  shuffle(self, x)\n",
      "     |      Shuffle list x in place, and return None.\n",
      "     |\n",
      "     |  triangular(self, low=0.0, high=1.0, mode=None)\n",
      "     |      Triangular distribution.\n",
      "     |\n",
      "     |      Continuous distribution bounded by given lower and upper limits,\n",
      "     |      and having a given mode value in-between.\n",
      "     |\n",
      "     |      http://en.wikipedia.org/wiki/Triangular_distribution\n",
      "     |\n",
      "     |      The mean (expected value) and variance of the random variable are:\n",
      "     |\n",
      "     |          E[X] = (low + high + mode) / 3\n",
      "     |          Var[X] = (low**2 + high**2 + mode**2 - low*high - low*mode - high*mode) / 18\n",
      "     |\n",
      "     |  uniform(self, a, b)\n",
      "     |      Get a random number in the range [a, b) or [a, b] depending on rounding.\n",
      "     |\n",
      "     |      The mean (expected value) and variance of the random variable are:\n",
      "     |\n",
      "     |          E[X] = (a + b) / 2\n",
      "     |          Var[X] = (b - a) ** 2 / 12\n",
      "     |\n",
      "     |  vonmisesvariate(self, mu, kappa)\n",
      "     |      Circular data distribution.\n",
      "     |\n",
      "     |      mu is the mean angle, expressed in radians between 0 and 2*pi, and\n",
      "     |      kappa is the concentration parameter, which must be greater than or\n",
      "     |      equal to zero.  If kappa is equal to zero, this distribution reduces\n",
      "     |      to a uniform random angle over the range 0 to 2*pi.\n",
      "     |\n",
      "     |  weibullvariate(self, alpha, beta)\n",
      "     |      Weibull distribution.\n",
      "     |\n",
      "     |      alpha is the scale parameter and beta is the shape parameter.\n",
      "     |\n",
      "     |  ----------------------------------------------------------------------\n",
      "     |  Class methods inherited from Random:\n",
      "     |\n",
      "     |  __init_subclass__(**kwargs)\n",
      "     |      Control how subclasses generate random integers.\n",
      "     |\n",
      "     |      The algorithm a subclass can use depends on the random() and/or\n",
      "     |      getrandbits() implementation available to it and determines\n",
      "     |      whether it can generate random integers from arbitrarily large\n",
      "     |      ranges.\n",
      "     |\n",
      "     |  ----------------------------------------------------------------------\n",
      "     |  Data descriptors inherited from Random:\n",
      "     |\n",
      "     |  __dict__\n",
      "     |      dictionary for instance variables\n",
      "     |\n",
      "     |  __weakref__\n",
      "     |      list of weak references to the object\n",
      "     |\n",
      "     |  ----------------------------------------------------------------------\n",
      "     |  Data and other attributes inherited from Random:\n",
      "     |\n",
      "     |  VERSION = 3\n",
      "     |\n",
      "     |  ----------------------------------------------------------------------\n",
      "     |  Static methods inherited from _random.Random:\n",
      "     |\n",
      "     |  __new__(*args, **kwargs) class method of _random.Random\n",
      "     |      Create and return a new object.  See help(type) for accurate signature.\n",
      "\n",
      "FUNCTIONS\n",
      "    betavariate(alpha, beta) method of Random instance\n",
      "        Beta distribution.\n",
      "\n",
      "        Conditions on the parameters are alpha > 0 and beta > 0.\n",
      "        Returned values range between 0 and 1.\n",
      "\n",
      "        The mean (expected value) and variance of the random variable are:\n",
      "\n",
      "            E[X] = alpha / (alpha + beta)\n",
      "            Var[X] = alpha * beta / ((alpha + beta)**2 * (alpha + beta + 1))\n",
      "\n",
      "    binomialvariate(n=1, p=0.5) method of Random instance\n",
      "        Binomial random variable.\n",
      "\n",
      "        Gives the number of successes for *n* independent trials\n",
      "        with the probability of success in each trial being *p*:\n",
      "\n",
      "            sum(random() < p for i in range(n))\n",
      "\n",
      "        Returns an integer in the range:   0 <= X <= n\n",
      "\n",
      "        The mean (expected value) and variance of the random variable are:\n",
      "\n",
      "            E[X] = n * p\n",
      "            Var[x] = n * p * (1 - p)\n",
      "\n",
      "    choice(seq) method of Random instance\n",
      "        Choose a random element from a non-empty sequence.\n",
      "\n",
      "    choices(population, weights=None, *, cum_weights=None, k=1) method of Random instance\n",
      "        Return a k sized list of population elements chosen with replacement.\n",
      "\n",
      "        If the relative weights or cumulative weights are not specified,\n",
      "        the selections are made with equal probability.\n",
      "\n",
      "    expovariate(lambd=1.0) method of Random instance\n",
      "        Exponential distribution.\n",
      "\n",
      "        lambd is 1.0 divided by the desired mean.  It should be\n",
      "        nonzero.  (The parameter would be called \"lambda\", but that is\n",
      "        a reserved word in Python.)  Returned values range from 0 to\n",
      "        positive infinity if lambd is positive, and from negative\n",
      "        infinity to 0 if lambd is negative.\n",
      "\n",
      "        The mean (expected value) and variance of the random variable are:\n",
      "\n",
      "            E[X] = 1 / lambd\n",
      "            Var[X] = 1 / lambd ** 2\n",
      "\n",
      "    gammavariate(alpha, beta) method of Random instance\n",
      "        Gamma distribution.  Not the gamma function!\n",
      "\n",
      "        Conditions on the parameters are alpha > 0 and beta > 0.\n",
      "\n",
      "        The probability distribution function is:\n",
      "\n",
      "                    x ** (alpha - 1) * math.exp(-x / beta)\n",
      "          pdf(x) =  --------------------------------------\n",
      "                      math.gamma(alpha) * beta ** alpha\n",
      "\n",
      "        The mean (expected value) and variance of the random variable are:\n",
      "\n",
      "            E[X] = alpha * beta\n",
      "            Var[X] = alpha * beta ** 2\n",
      "\n",
      "    gauss(mu=0.0, sigma=1.0) method of Random instance\n",
      "        Gaussian distribution.\n",
      "\n",
      "        mu is the mean, and sigma is the standard deviation.  This is\n",
      "        slightly faster than the normalvariate() function.\n",
      "\n",
      "        Not thread-safe without a lock around calls.\n",
      "\n",
      "    getrandbits(k, /) method of Random instance\n",
      "        getrandbits(k) -> x.  Generates an int with k random bits.\n",
      "\n",
      "    getstate() method of Random instance\n",
      "        Return internal state; can be passed to setstate() later.\n",
      "\n",
      "    lognormvariate(mu, sigma) method of Random instance\n",
      "        Log normal distribution.\n",
      "\n",
      "        If you take the natural logarithm of this distribution, you'll get a\n",
      "        normal distribution with mean mu and standard deviation sigma.\n",
      "        mu can have any value, and sigma must be greater than zero.\n",
      "\n",
      "    normalvariate(mu=0.0, sigma=1.0) method of Random instance\n",
      "        Normal distribution.\n",
      "\n",
      "        mu is the mean, and sigma is the standard deviation.\n",
      "\n",
      "    paretovariate(alpha) method of Random instance\n",
      "        Pareto distribution.  alpha is the shape parameter.\n",
      "\n",
      "    randbytes(n) method of Random instance\n",
      "        Generate n random bytes.\n",
      "\n",
      "    randint(a, b) method of Random instance\n",
      "        Return random integer in range [a, b], including both end points.\n",
      "\n",
      "    random() method of Random instance\n",
      "        random() -> x in the interval [0, 1).\n",
      "\n",
      "    randrange(start, stop=None, step=1) method of Random instance\n",
      "        Choose a random item from range(stop) or range(start, stop[, step]).\n",
      "\n",
      "        Roughly equivalent to ``choice(range(start, stop, step))`` but\n",
      "        supports arbitrarily large ranges and is optimized for common cases.\n",
      "\n",
      "    sample(population, k, *, counts=None) method of Random instance\n",
      "        Chooses k unique random elements from a population sequence.\n",
      "\n",
      "        Returns a new list containing elements from the population while\n",
      "        leaving the original population unchanged.  The resulting list is\n",
      "        in selection order so that all sub-slices will also be valid random\n",
      "        samples.  This allows raffle winners (the sample) to be partitioned\n",
      "        into grand prize and second place winners (the subslices).\n",
      "\n",
      "        Members of the population need not be hashable or unique.  If the\n",
      "        population contains repeats, then each occurrence is a possible\n",
      "        selection in the sample.\n",
      "\n",
      "        Repeated elements can be specified one at a time or with the optional\n",
      "        counts parameter.  For example:\n",
      "\n",
      "            sample(['red', 'blue'], counts=[4, 2], k=5)\n",
      "\n",
      "        is equivalent to:\n",
      "\n",
      "            sample(['red', 'red', 'red', 'red', 'blue', 'blue'], k=5)\n",
      "\n",
      "        To choose a sample from a range of integers, use range() for the\n",
      "        population argument.  This is especially fast and space efficient\n",
      "        for sampling from a large population:\n",
      "\n",
      "            sample(range(10000000), 60)\n",
      "\n",
      "    seed(a=None, version=2) method of Random instance\n",
      "        Initialize internal state from a seed.\n",
      "\n",
      "        The only supported seed types are None, int, float,\n",
      "        str, bytes, and bytearray.\n",
      "\n",
      "        None or no argument seeds from current time or from an operating\n",
      "        system specific randomness source if available.\n",
      "\n",
      "        If *a* is an int, all bits are used.\n",
      "\n",
      "        For version 2 (the default), all of the bits are used if *a* is a str,\n",
      "        bytes, or bytearray.  For version 1 (provided for reproducing random\n",
      "        sequences from older versions of Python), the algorithm for str and\n",
      "        bytes generates a narrower range of seeds.\n",
      "\n",
      "    setstate(state) method of Random instance\n",
      "        Restore internal state from object returned by getstate().\n",
      "\n",
      "    shuffle(x) method of Random instance\n",
      "        Shuffle list x in place, and return None.\n",
      "\n",
      "    triangular(low=0.0, high=1.0, mode=None) method of Random instance\n",
      "        Triangular distribution.\n",
      "\n",
      "        Continuous distribution bounded by given lower and upper limits,\n",
      "        and having a given mode value in-between.\n",
      "\n",
      "        http://en.wikipedia.org/wiki/Triangular_distribution\n",
      "\n",
      "        The mean (expected value) and variance of the random variable are:\n",
      "\n",
      "            E[X] = (low + high + mode) / 3\n",
      "            Var[X] = (low**2 + high**2 + mode**2 - low*high - low*mode - high*mode) / 18\n",
      "\n",
      "    uniform(a, b) method of Random instance\n",
      "        Get a random number in the range [a, b) or [a, b] depending on rounding.\n",
      "\n",
      "        The mean (expected value) and variance of the random variable are:\n",
      "\n",
      "            E[X] = (a + b) / 2\n",
      "            Var[X] = (b - a) ** 2 / 12\n",
      "\n",
      "    vonmisesvariate(mu, kappa) method of Random instance\n",
      "        Circular data distribution.\n",
      "\n",
      "        mu is the mean angle, expressed in radians between 0 and 2*pi, and\n",
      "        kappa is the concentration parameter, which must be greater than or\n",
      "        equal to zero.  If kappa is equal to zero, this distribution reduces\n",
      "        to a uniform random angle over the range 0 to 2*pi.\n",
      "\n",
      "    weibullvariate(alpha, beta) method of Random instance\n",
      "        Weibull distribution.\n",
      "\n",
      "        alpha is the scale parameter and beta is the shape parameter.\n",
      "\n",
      "DATA\n",
      "    __all__ = ['Random', 'SystemRandom', 'betavariate', 'binomialvariate',...\n",
      "\n",
      "FILE\n",
      "    /Users/reuven/.pyenv/versions/3.13.2/lib/python3.13/random.py\n",
      "\n",
      "\n"
     ]
    }
   ],
   "source": [
    "help(random)"
   ]
  },
  {
   "cell_type": "markdown",
   "metadata": {},
   "source": [
    "# Exercise: Guessing name\n",
    "\n",
    "1. Use `random.randint` to choose a random integer between 0-100.\n",
    "2. Ask the user, repeatedly, to guess the number.\n",
    "    - If the user gets it, then congratulate them and stop the program. You can also tell them how many guesses it took. (That's module advanced.)\n",
    "    - If the user guesses too high, then tell them, \"too high!\"\n",
    "    - If the user guesses too low, then tell them, \"too low!\"\n",
    "    - If the user enters a non-number, then scold them\n",
    "\n",
    "Example:\n",
    "\n",
    "    Guess: 50\n",
    "    Too high!\n",
    "    Guess: 25\n",
    "    Too low!\n",
    "    Guess: I hate this\n",
    "    That is not a number; try again\n",
    "    Guess: 32\n",
    "    You got it in 3 tries!\n"
   ]
  },
  {
   "cell_type": "code",
   "execution_count": 10,
   "metadata": {},
   "outputs": [
    {
     "name": "stdin",
     "output_type": "stream",
     "text": [
      "Guess:  50\n"
     ]
    },
    {
     "name": "stdout",
     "output_type": "stream",
     "text": [
      "Too low!\n"
     ]
    },
    {
     "name": "stdin",
     "output_type": "stream",
     "text": [
      "Guess:  75\n"
     ]
    },
    {
     "name": "stdout",
     "output_type": "stream",
     "text": [
      "Too high!\n"
     ]
    },
    {
     "name": "stdin",
     "output_type": "stream",
     "text": [
      "Guess:  60\n"
     ]
    },
    {
     "name": "stdout",
     "output_type": "stream",
     "text": [
      "Too high!\n"
     ]
    },
    {
     "name": "stdin",
     "output_type": "stream",
     "text": [
      "Guess:  55\n"
     ]
    },
    {
     "name": "stdout",
     "output_type": "stream",
     "text": [
      "Too high!\n"
     ]
    },
    {
     "name": "stdin",
     "output_type": "stream",
     "text": [
      "Guess:  53\n"
     ]
    },
    {
     "name": "stdout",
     "output_type": "stream",
     "text": [
      "Too low!\n"
     ]
    },
    {
     "name": "stdin",
     "output_type": "stream",
     "text": [
      "Guess:  54\n"
     ]
    },
    {
     "name": "stdout",
     "output_type": "stream",
     "text": [
      "You got it!\n",
      "You got it in 6 guesses.\n"
     ]
    }
   ],
   "source": [
    "import random\n",
    "\n",
    "number = random.randint(0, 100)\n",
    "guess_count = 0\n",
    "\n",
    "while True:\n",
    "    guess = input('Guess: ').strip()\n",
    "    guess_count += 1\n",
    "\n",
    "    if not guess.isdigit():\n",
    "        print(f'{guess} is not numeric; try again')\n",
    "        continue\n",
    "        \n",
    "    n = int(guess)\n",
    "\n",
    "    if n == number:\n",
    "        print('You got it!')\n",
    "        break\n",
    "    elif n < number:\n",
    "        print('Too low!')\n",
    "    else:\n",
    "        print('Too high!')\n",
    "\n",
    "print(f'You got it in {guess_count} guesses.')"
   ]
  },
  {
   "cell_type": "code",
   "execution_count": 9,
   "metadata": {},
   "outputs": [
    {
     "name": "stdout",
     "output_type": "stream",
     "text": [
      "Help on method randint in module random:\n",
      "\n",
      "randint(a, b) method of random.Random instance\n",
      "    Return random integer in range [a, b], including both end points.\n",
      "\n"
     ]
    }
   ],
   "source": [
    "# the help function can give us help on any function/method in Python\n",
    "\n",
    "help(random.randint)  # we don't run the function with (), but we do pass it to help as an argument"
   ]
  },
  {
   "cell_type": "markdown",
   "metadata": {},
   "source": [
    "# More about our module -- the object itself and how Python loaded it\n",
    "\n",
    "When we use `import`, we're assigning a module value to our variable (in this case, `random`). We can inspect that variable, asking it to print itself."
   ]
  },
  {
   "cell_type": "code",
   "execution_count": 11,
   "metadata": {},
   "outputs": [
    {
     "data": {
      "text/plain": [
       "<module 'random' from '/Users/reuven/.pyenv/versions/3.13.2/lib/python3.13/random.py'>"
      ]
     },
     "execution_count": 11,
     "metadata": {},
     "output_type": "execute_result"
    }
   ],
   "source": [
    "random"
   ]
  },
  {
   "cell_type": "markdown",
   "metadata": {},
   "source": [
    "# How did Python know to look there?\n",
    "\n",
    "If we say `import random`, then Python takes the name of the module (`random`), adds `.py` to it, and then looks for a file called `random.py`. But where does it look?\n",
    "\n",
    "- First in the current directory -- here, that's wherever Jupyter is running, but it's generally wherever you run the program from.\n",
    "- Then it looks through each directory in `sys.path`. Yes, that's a value in the `sys` module. To see it, you need to `import sys`."
   ]
  },
  {
   "cell_type": "code",
   "execution_count": 12,
   "metadata": {},
   "outputs": [
    {
     "data": {
      "text/plain": [
       "['/Users/reuven/.pyenv/versions/3.13.2/lib/python313.zip',\n",
       " '/Users/reuven/.pyenv/versions/3.13.2/lib/python3.13',\n",
       " '/Users/reuven/.pyenv/versions/3.13.2/lib/python3.13/lib-dynload',\n",
       " '',\n",
       " '/Users/reuven/.pyenv/versions/3.13.2/lib/python3.13/site-packages']"
      ]
     },
     "execution_count": 12,
     "metadata": {},
     "output_type": "execute_result"
    }
   ],
   "source": [
    "import sys\n",
    "\n",
    "sys.path    # it's a list of strings, with each string being a file/directory where we should look for modules"
   ]
  },
  {
   "cell_type": "code",
   "execution_count": null,
   "metadata": {},
   "outputs": [],
   "source": [
    "# CC\n",
    "# I have made a different start in my program is wrong? \n",
    "\n",
    "import random\n",
    "\n",
    "secret = random.randint(0,10)\n",
    "guess_count = 0\n",
    "guess = -1\n",
    "\n",
    "while guess != secret:\n",
    "    guess = input(f\"Indovina il numero:\")\n",
    "    guess_count += 1\n",
    "    if not guess.isdigit():\n",
    "        print(f\"Sorry, {guess} is not a digit!\")\n",
    "        continue\n",
    "        \n",
    "    guess = int(guess)\n",
    "    \n",
    "    if guess > secret:\n",
    "        print(\"To high!\")\n",
    "    elif guess < secret:\n",
    "        print(\"To low!\")\n",
    "    else:\n",
    "        print(f\"Congratulation the secret number is {guess}\\nYou made {guess_count} attempts\")"
   ]
  },
  {
   "cell_type": "code",
   "execution_count": 13,
   "metadata": {},
   "outputs": [
    {
     "data": {
      "text/plain": [
       "<module 'random' from '/Users/reuven/.pyenv/versions/3.13.2/lib/python3.13/random.py'>"
      ]
     },
     "execution_count": 13,
     "metadata": {},
     "output_type": "execute_result"
    }
   ],
   "source": [
    "random"
   ]
  },
  {
   "cell_type": "code",
   "execution_count": 16,
   "metadata": {},
   "outputs": [
    {
     "data": {
      "text/plain": [
       "'/Users/reuven/.pyenv/versions/3.13.2/lib/python3.13/random.py'"
      ]
     },
     "execution_count": 16,
     "metadata": {},
     "output_type": "execute_result"
    }
   ],
   "source": [
    "# this is where the file was loaded from\n",
    "\n",
    "random.__file__"
   ]
  },
  {
   "cell_type": "code",
   "execution_count": 17,
   "metadata": {},
   "outputs": [
    {
     "data": {
      "text/plain": [
       "('/Users/reuven/.pyenv/versions/3.13.2/lib/python3.13', 'random.py')"
      ]
     },
     "execution_count": 17,
     "metadata": {},
     "output_type": "execute_result"
    }
   ],
   "source": [
    "import os\n",
    "\n",
    "os.path.split(random.__file__)  # os.path.split takes a string, and returns a 2-element tuple with the directory and filename"
   ]
  },
  {
   "cell_type": "markdown",
   "metadata": {},
   "source": [
    "# What happens when you `import` a module?\n",
    "\n",
    "1. Python checks to see if the module was already imported. If so, then it skips to step 3.\n",
    "2. Python looks for the module in each of the directories in `sys.path`. If it finds a matching filename, then it loads that file as a module. For example, if it finds `random.py`, then it loads that file's contents.\n",
    "3. Python assigns the module's contents to our module variable."
   ]
  },
  {
   "cell_type": "markdown",
   "metadata": {},
   "source": [
    "# Variations on `import`\n",
    "\n",
    "- `import MODULE` -- this is the easiest, and most common, way to `import`.\n",
    "- `from MODULE import NAME` -- this loads the entire module into memory, but doesn't define `MODULE` as a variable. Rather, it defines `NAME` instead, as a top-level variable rather than attribute of the module.\n",
    "- `import MODULE as ALIAS` -- import the module, but define the variable to be `ALIAS` instead.\n",
    "- `from MODULE import NAME as ALIAS` -- import the module, only define one name from the module, but use an alias instead\n",
    "- `from MODULE import *` -- this asks Python to load the module, and then define every variable/function from the module in the current namespace as a global variable/function. **THIS IS AN ABSOLUTELY TERRIBLE THING TO DO!** "
   ]
  },
  {
   "cell_type": "code",
   "execution_count": 18,
   "metadata": {},
   "outputs": [
    {
     "ename": "NameError",
     "evalue": "name 'randint' is not defined",
     "output_type": "error",
     "traceback": [
      "\u001b[31m---------------------------------------------------------------------------\u001b[39m",
      "\u001b[31mNameError\u001b[39m                                 Traceback (most recent call last)",
      "\u001b[36mCell\u001b[39m\u001b[36m \u001b[39m\u001b[32mIn[18]\u001b[39m\u001b[32m, line 5\u001b[39m\n\u001b[32m      1\u001b[39m \u001b[38;5;66;03m# I've got random.randint\u001b[39;00m\n\u001b[32m      2\u001b[39m \u001b[38;5;66;03m# what if I'm going to use it a lot? It'll be annoying to say random.randint each time.\u001b[39;00m\n\u001b[32m      3\u001b[39m \u001b[38;5;66;03m# can I just say randint?\u001b[39;00m\n\u001b[32m----> \u001b[39m\u001b[32m5\u001b[39m \u001b[43mrandint\u001b[49m(\u001b[32m0\u001b[39m, \u001b[32m100\u001b[39m)\n",
      "\u001b[31mNameError\u001b[39m: name 'randint' is not defined"
     ]
    }
   ],
   "source": [
    "# I've got random.randint\n",
    "# what if I'm going to use it a lot? It'll be annoying to say random.randint each time.\n",
    "# can I just say randint?\n",
    "\n",
    "randint(0, 100)   # randint isn't a function at the top level -- it's within the \"random\" module"
   ]
  },
  {
   "cell_type": "code",
   "execution_count": 19,
   "metadata": {},
   "outputs": [],
   "source": [
    "# I can ask Python to define not the module as a variable, but our function instead\n",
    "\n",
    "from random import randint\n",
    "\n",
    "# in the above code:\n",
    "# (1) we're still loading the entire \"random\" module into memory\n",
    "# (2) the only variable that is defined is \"randint\" -- the \"random\" module variable is *not* defined in this syntax\n",
    "# (3) this syntax exists to make it easier to refer to commonly called functions"
   ]
  },
  {
   "cell_type": "code",
   "execution_count": 20,
   "metadata": {},
   "outputs": [
    {
     "data": {
      "text/plain": [
       "87"
      ]
     },
     "execution_count": 20,
     "metadata": {},
     "output_type": "execute_result"
    }
   ],
   "source": [
    "randint(0, 100)"
   ]
  },
  {
   "cell_type": "code",
   "execution_count": 21,
   "metadata": {},
   "outputs": [],
   "source": [
    "# Another variation on import: we can change the name of the variable that's defined\n",
    "\n",
    "import random as r   # this means: find and load random.py, but don't define \"random\" as a variable; use \"r\" instead\n",
    "\n",
    "# (1) maybe there's another variable/function named random, and you want to avoid a potential class\n",
    "# (2) maybe it's easier to read/debug/work with using another name\n",
    "# (3) sometimes, if you have a very deep hierarchy, it's easier to give a name rather than use a.b.c.d.e.f.g\n",
    "# (4) everyone else does it"
   ]
  },
  {
   "cell_type": "markdown",
   "metadata": {},
   "source": [
    "Example: Everyone in the data-analysis world uses NumPy and Pandas with aliases:\n",
    "\n"
   ]
  },
  {
   "cell_type": "code",
   "execution_count": 22,
   "metadata": {},
   "outputs": [],
   "source": [
    "import numpy as np\n",
    "import pandas as pd"
   ]
  },
  {
   "cell_type": "code",
   "execution_count": 23,
   "metadata": {},
   "outputs": [],
   "source": [
    "import random as r"
   ]
  },
  {
   "cell_type": "code",
   "execution_count": 24,
   "metadata": {},
   "outputs": [
    {
     "data": {
      "text/plain": [
       "4"
      ]
     },
     "execution_count": 24,
     "metadata": {},
     "output_type": "execute_result"
    }
   ],
   "source": [
    "r.randint(0, 100)"
   ]
  },
  {
   "cell_type": "markdown",
   "metadata": {},
   "source": [
    "# Next up\n",
    "\n",
    "- We'll write our own (simple) module\n",
    "- We'll see more of what happens when we `import` a module"
   ]
  },
  {
   "cell_type": "markdown",
   "metadata": {},
   "source": [
    "# Creating a module\n",
    "\n",
    "- We have to create a file\n",
    "- The file's name must be a legitmate Python variable name before the `.` and `py` after the `.`.\n",
    "- The file contains legal Python, particularly/usually variable and function definitions\n",
    "\n",
    "In Jupyter I can actually create a file using a special, Web-based editor!"
   ]
  },
  {
   "cell_type": "code",
   "execution_count": 25,
   "metadata": {},
   "outputs": [],
   "source": [
    "# let's try to load mymod.py, which is in the same directory\n",
    "\n",
    "import mymod"
   ]
  },
  {
   "cell_type": "code",
   "execution_count": 26,
   "metadata": {},
   "outputs": [
    {
     "data": {
      "text/plain": [
       "<module 'mymod' from '/Users/reuven/Courses/Current/OReilly-2025-02Feb-python-5-steps/mymod.py'>"
      ]
     },
     "execution_count": 26,
     "metadata": {},
     "output_type": "execute_result"
    }
   ],
   "source": [
    "mymod"
   ]
  },
  {
   "cell_type": "code",
   "execution_count": 27,
   "metadata": {},
   "outputs": [
    {
     "data": {
      "text/plain": [
       "['__builtins__',\n",
       " '__cached__',\n",
       " '__doc__',\n",
       " '__file__',\n",
       " '__loader__',\n",
       " '__name__',\n",
       " '__package__',\n",
       " '__spec__']"
      ]
     },
     "execution_count": 27,
     "metadata": {},
     "output_type": "execute_result"
    }
   ],
   "source": [
    "# before we add any functionality to the module, let's take a look at what names (attributes) it defines\n",
    "\n",
    "dir(mymod)"
   ]
  },
  {
   "cell_type": "code",
   "execution_count": 28,
   "metadata": {},
   "outputs": [
    {
     "data": {
      "text/plain": [
       "'/Users/reuven/Courses/Current/OReilly-2025-02Feb-python-5-steps/mymod.py'"
      ]
     },
     "execution_count": 28,
     "metadata": {},
     "output_type": "execute_result"
    }
   ],
   "source": [
    "mymod.__file__"
   ]
  },
  {
   "cell_type": "code",
   "execution_count": 30,
   "metadata": {},
   "outputs": [
    {
     "data": {
      "text/plain": [
       "'mymod'"
      ]
     },
     "execution_count": 30,
     "metadata": {},
     "output_type": "execute_result"
    }
   ],
   "source": [
    "mymod.__name__"
   ]
  },
  {
   "cell_type": "code",
   "execution_count": 31,
   "metadata": {},
   "outputs": [],
   "source": [
    "import mymod"
   ]
  },
  {
   "cell_type": "code",
   "execution_count": 32,
   "metadata": {},
   "outputs": [
    {
     "data": {
      "text/plain": [
       "['__builtins__',\n",
       " '__cached__',\n",
       " '__doc__',\n",
       " '__file__',\n",
       " '__loader__',\n",
       " '__name__',\n",
       " '__package__',\n",
       " '__spec__']"
      ]
     },
     "execution_count": 32,
     "metadata": {},
     "output_type": "execute_result"
    }
   ],
   "source": [
    "dir(mymod)"
   ]
  },
  {
   "cell_type": "code",
   "execution_count": 33,
   "metadata": {},
   "outputs": [
    {
     "data": {
      "text/plain": [
       "<module 'mymod' from '/Users/reuven/Courses/Current/OReilly-2025-02Feb-python-5-steps/mymod.py'>"
      ]
     },
     "execution_count": 33,
     "metadata": {},
     "output_type": "execute_result"
    }
   ],
   "source": [
    "# if we have already loaded a module, and we want to reload it, we need to use\n",
    "# the importlib module, which comes with Python\n",
    "\n",
    "# you should never be using reload in a real-life Python program!\n",
    "# but... if you're using Jupyter and exploring, then it's very useful\n",
    "\n",
    "from importlib import reload    # this function reloads a module, even if it was loaded before\n",
    "\n",
    "reload(mymod) "
   ]
  },
  {
   "cell_type": "code",
   "execution_count": 34,
   "metadata": {},
   "outputs": [
    {
     "data": {
      "text/plain": [
       "['__builtins__',\n",
       " '__cached__',\n",
       " '__doc__',\n",
       " '__file__',\n",
       " '__loader__',\n",
       " '__name__',\n",
       " '__package__',\n",
       " '__spec__',\n",
       " 'hello',\n",
       " 'x',\n",
       " 'y']"
      ]
     },
     "execution_count": 34,
     "metadata": {},
     "output_type": "execute_result"
    }
   ],
   "source": [
    "dir(mymod)"
   ]
  },
  {
   "cell_type": "code",
   "execution_count": 35,
   "metadata": {},
   "outputs": [
    {
     "data": {
      "text/plain": [
       "5"
      ]
     },
     "execution_count": 35,
     "metadata": {},
     "output_type": "execute_result"
    }
   ],
   "source": [
    "mymod.x"
   ]
  },
  {
   "cell_type": "code",
   "execution_count": 36,
   "metadata": {},
   "outputs": [
    {
     "data": {
      "text/plain": [
       "[10, 20, 30]"
      ]
     },
     "execution_count": 36,
     "metadata": {},
     "output_type": "execute_result"
    }
   ],
   "source": [
    "mymod.y"
   ]
  },
  {
   "cell_type": "code",
   "execution_count": 37,
   "metadata": {},
   "outputs": [
    {
     "data": {
      "text/plain": [
       "'Hello, world, from mymod!'"
      ]
     },
     "execution_count": 37,
     "metadata": {},
     "output_type": "execute_result"
    }
   ],
   "source": [
    "mymod.hello('world')"
   ]
  },
  {
   "cell_type": "markdown",
   "metadata": {},
   "source": [
    "# Exercise: `menu` module\n",
    "\n",
    "1. We often need to ask users to choose from among several different options in a program. We're going to write a function `menu` that will be inside of a module `menu` (yes, that'll make it `menu.menu`) that will take a list of strings -- the options that a user might be able to enter.\n",
    "2. When we call the function, it'll ask the user to choose from the options in the list.\n",
    "3. If the user chooses one of the legal options, then the function returns that value.\n",
    "4. If the user chooses an illegal option, then the function scolds them and has them try again.\n",
    "5. Create this `menu` module, which will contain only our function definition. Then, from outside of the module, `import` it and invoke the function, and show that it works."
   ]
  },
  {
   "cell_type": "code",
   "execution_count": 38,
   "metadata": {},
   "outputs": [
    {
     "name": "stdin",
     "output_type": "stream",
     "text": [
      "Choose from ['a', 'b', 'c']:  x\n"
     ]
    },
    {
     "name": "stdout",
     "output_type": "stream",
     "text": [
      "x is invalid; try again\n"
     ]
    },
    {
     "name": "stdin",
     "output_type": "stream",
     "text": [
      "Choose from ['a', 'b', 'c']:  C\n"
     ]
    },
    {
     "name": "stdout",
     "output_type": "stream",
     "text": [
      "C is invalid; try again\n"
     ]
    },
    {
     "name": "stdin",
     "output_type": "stream",
     "text": [
      "Choose from ['a', 'b', 'c']:  abc\n"
     ]
    },
    {
     "name": "stdout",
     "output_type": "stream",
     "text": [
      "abc is invalid; try again\n"
     ]
    },
    {
     "name": "stdin",
     "output_type": "stream",
     "text": [
      "Choose from ['a', 'b', 'c']:  b\n"
     ]
    },
    {
     "name": "stdout",
     "output_type": "stream",
     "text": [
      "You chose b\n"
     ]
    }
   ],
   "source": [
    "import menu\n",
    "\n",
    "s = menu.menu(['a', 'b', 'c'])\n",
    "\n",
    "print(f'You chose {s}')"
   ]
  },
  {
   "cell_type": "markdown",
   "metadata": {},
   "source": [
    "# A few more things\n",
    "\n",
    "I've modified `mymod.py` such that it has two `print` calls, one at the start of the module and one at its end. Will this print anything when I `import` (or in our case, `reload`) the module?"
   ]
  },
  {
   "cell_type": "code",
   "execution_count": 39,
   "metadata": {},
   "outputs": [
    {
     "name": "stdout",
     "output_type": "stream",
     "text": [
      "Hello from mymod!\n",
      "Done loading mymod!\n"
     ]
    },
    {
     "data": {
      "text/plain": [
       "<module 'mymod' from '/Users/reuven/Courses/Current/OReilly-2025-02Feb-python-5-steps/mymod.py'>"
      ]
     },
     "execution_count": 39,
     "metadata": {},
     "output_type": "execute_result"
    }
   ],
   "source": [
    "reload(mymod)"
   ]
  },
  {
   "cell_type": "markdown",
   "metadata": {},
   "source": [
    "In addition: We've seen that any variable we define in our module (e.g., `x`, `y`, and `hello`) are all available to us outside of the module as attributes on the module -- e.g., `mymod.x`, `mymod.y`, and `mymod.hello`.\n",
    "\n",
    "- Inside of the module, they're just variables\n",
    "- Outside of the module, they are attributes on the module name\n",
    "\n",
    "This raises the question: What about the attributes on the module name that Python defined, such as `__name__`? Are they available inside of the module as variables?"
   ]
  },
  {
   "cell_type": "code",
   "execution_count": 40,
   "metadata": {},
   "outputs": [
    {
     "data": {
      "text/plain": [
       "['__builtins__',\n",
       " '__cached__',\n",
       " '__doc__',\n",
       " '__file__',\n",
       " '__loader__',\n",
       " '__name__',\n",
       " '__package__',\n",
       " '__spec__',\n",
       " 'hello',\n",
       " 'x',\n",
       " 'y']"
      ]
     },
     "execution_count": 40,
     "metadata": {},
     "output_type": "execute_result"
    }
   ],
   "source": [
    "dir(mymod)"
   ]
  },
  {
   "cell_type": "code",
   "execution_count": 41,
   "metadata": {},
   "outputs": [
    {
     "name": "stdout",
     "output_type": "stream",
     "text": [
      "Hello from mymod!\n",
      "Done loading mymod!\n"
     ]
    },
    {
     "data": {
      "text/plain": [
       "<module 'mymod' from '/Users/reuven/Courses/Current/OReilly-2025-02Feb-python-5-steps/mymod.py'>"
      ]
     },
     "execution_count": 41,
     "metadata": {},
     "output_type": "execute_result"
    }
   ],
   "source": [
    "# now let's reload the module. What will it print for us?\n",
    "\n",
    "reload(mymod)"
   ]
  },
  {
   "cell_type": "markdown",
   "metadata": {},
   "source": [
    "What do we see from this?\n",
    "\n",
    "That Python defines a number of special variables inside of a module that we can use to report on and inspect our module from the inside, inlcuding `__name__`, which has the name of the module in it.\n",
    "\n",
    "But it gets better!"
   ]
  },
  {
   "cell_type": "markdown",
   "metadata": {},
   "source": [
    "# `__name__` is special\n",
    "\n",
    "The variable `__name__` is always defined in Python. It can have one of two types of values:\n",
    "\n",
    "- If it's used in a file that someone imported (i.e., a module), then it has the module's name as a string.\n",
    "- If it's in the first file that was executed by Python (i.e., if the program was run directly), then it has the special string `'__main__'`, meaning that it's the \"main\" namespace of the program.\n",
    "\n",
    "When we said `import mymod`, `__name__` was the string `'mymod'`. But when we ran `mymod.py` as a Python program, then it was the first thing loaded, and thus `__name__` had the value `'__main__'`.\n",
    "\n",
    "Who cares?\n",
    "\n",
    "Consider:\n",
    "\n",
    "- When we `import` a module, the module is executed, from start to finish.\n",
    "- We can include any Python code we want.\n",
    "- If the module was imported, `__name__` will have a different value than if the program was executed.\n",
    "\n",
    "This leads us to one of the most famous lines in all of Python:\n",
    "\n",
    "```python\n",
    "if __name__ == '__main__':\n",
    "```\n",
    "\n",
    "This code is at the bottom of nearly every module in Python. It basically says: Only run the below code if the module was run as a program. Do *not* run the code below this line if the module was imported.\n",
    "\n",
    "This allows us to write a module that is both loadable/usable by others for its definitions, and also a standalone program that we can run and use."
   ]
  },
  {
   "cell_type": "code",
   "execution_count": 42,
   "metadata": {},
   "outputs": [
    {
     "data": {
      "text/plain": [
       "<module 'mymod' from '/Users/reuven/Courses/Current/OReilly-2025-02Feb-python-5-steps/mymod.py'>"
      ]
     },
     "execution_count": 42,
     "metadata": {},
     "output_type": "execute_result"
    }
   ],
   "source": [
    "reload(mymod)"
   ]
  },
  {
   "cell_type": "markdown",
   "metadata": {},
   "source": [
    "# Who cares?\n",
    "\n",
    "Many, *many* modules take advantage of this:\n",
    "\n",
    "- They can provide a demo of the module's functionality when the module is run as a program\n",
    "- They can run a function, getting input from the user\n",
    "- They can run automated tests on themselves when invoked\n",
    "\n",
    "Many people believe that you must have this line in a Python program. You don't! It's a great convenience, but it's far from mandatory. "
   ]
  },
  {
   "cell_type": "markdown",
   "metadata": {},
   "source": [
    "# Don't confuse `__name__` and `'__main__'`!\n",
    "\n",
    "- `__name__` is a variable. It contains a string value. Python sets this variable based on how you invoke a program.\n",
    "- `'__main__'` is a string. It's the string value that is set to `__name__` when you're in the first program loaded by Python.\n",
    "\n",
    "Both of these are called \"dunder-SOMETHING,\" where \"dunder\" is Python slang for \"double underscore, before and after.\""
   ]
  },
  {
   "cell_type": "markdown",
   "metadata": {},
   "source": [
    "# Exercise: Make `menu.py` runnable on its own\n",
    "\n",
    "Modify `menu.py`, such that if we invoke it from the command line (i.e., not via `import`), then it will ask the user to enter one of `a`, `b`, or `c`, and will print the result."
   ]
  },
  {
   "cell_type": "code",
   "execution_count": 43,
   "metadata": {},
   "outputs": [
    {
     "data": {
      "text/plain": [
       "<module 'menu' from '/Users/reuven/Courses/Current/OReilly-2025-02Feb-python-5-steps/menu.py'>"
      ]
     },
     "execution_count": 43,
     "metadata": {},
     "output_type": "execute_result"
    }
   ],
   "source": [
    "reload(menu)"
   ]
  },
  {
   "cell_type": "markdown",
   "metadata": {},
   "source": [
    "# Next up\n",
    "\n",
    "- Python's standard library\n",
    "- Modules vs. packages\n",
    "- PyPI and pip\n",
    "- Where to next? (And AMA)"
   ]
  },
  {
   "cell_type": "markdown",
   "metadata": {},
   "source": [
    "# Python standard library\n",
    "\n",
    "This is a collection of modules that comes with Python. No matter what platform you're running on, you are guaranteed to have the same Python standard library available to you.\n",
    "\n",
    "The standard library, because it comes with Python, is standardized for each version of Python. So if you are using Python 3.13, and your users are using Python 3.13, then you'll have the same standard library available -- which means that you can use `import` in your program and know what will be available to import.\n",
    "\n",
    "Fair warning: The standard library is *very* big. Getting a good gut sense of what's in it will help.\n",
    "\n",
    "The standard library is documented at https://docs.python.org."
   ]
  },
  {
   "cell_type": "code",
   "execution_count": 44,
   "metadata": {},
   "outputs": [
    {
     "data": {
      "text/plain": [
       "['xinetd.d-migrated2launchd',\n",
       " 'ssh_config.system_default',\n",
       " 'ssh_config.applesaved',\n",
       " 'periodic',\n",
       " 'manpaths',\n",
       " 'services~previous',\n",
       " 'rc.common',\n",
       " 'csh.logout~orig',\n",
       " 'auto_master',\n",
       " 'php.ini.default-5.2-previous~orig',\n",
       " 'csh.login',\n",
       " 'syslog.conf',\n",
       " 'rtadvd.conf~previous',\n",
       " 'syslog.conf~previous',\n",
       " 'krb5.keytab',\n",
       " 'sudoers.d',\n",
       " 'bash_completion.d',\n",
       " 'ssl',\n",
       " 'kern_loader.conf.applesaved',\n",
       " 'ttys~previous',\n",
       " 'csh.logout',\n",
       " 'aliases.db',\n",
       " 'hosts.lpd',\n",
       " 'bashrc_Apple_Terminal',\n",
       " 'racoon',\n",
       " 'snmp',\n",
       " 'zshrc_Apple_Terminal',\n",
       " 'named.conf.applesaved',\n",
       " 'gettytab',\n",
       " 'master.passwd~orig',\n",
       " 'kern_loader.conf',\n",
       " 'authorization.user_modified',\n",
       " 'networks~orig',\n",
       " 'paths.d',\n",
       " 'asl',\n",
       " 'csh.login~orig',\n",
       " 'rtadvd.conf',\n",
       " 'security',\n",
       " 'protocols~previous',\n",
       " 'group',\n",
       " 'printcap',\n",
       " 'auto_home',\n",
       " 'php.ini.default-previous',\n",
       " 'sudoers~',\n",
       " 'manpaths.d',\n",
       " 'smb.conf.applesaved',\n",
       " 'ppp',\n",
       " 'shells',\n",
       " 'pear.conf-previous',\n",
       " 'crontab',\n",
       " 'slpsa.conf.applesaved',\n",
       " 'rc.common~previous',\n",
       " 'xinetd.d',\n",
       " 'ttys',\n",
       " 'group~previous',\n",
       " 'paths',\n",
       " 'rmtab',\n",
       " 'csh.cshrc~orig',\n",
       " 'inetd.conf.applesaved',\n",
       " 'xtab',\n",
       " 'syslog.conf.applesaved',\n",
       " 'localtime',\n",
       " 'pf.conf',\n",
       " '6to4.conf.applesaved',\n",
       " 'CiscoSystemsVPNClient',\n",
       " 'launchd.conf',\n",
       " 'sudoers',\n",
       " 'ftpusers~orig',\n",
       " 'bashrc',\n",
       " 'find.codes~orig',\n",
       " 'auto_master~orig',\n",
       " 'newsyslog.d',\n",
       " 'emacs',\n",
       " 'irbrc',\n",
       " 'pam.d',\n",
       " 'zshrc',\n",
       " 'hosts.equiv',\n",
       " 'networks',\n",
       " 'find.codes',\n",
       " 'rpc~previous',\n",
       " 'apache2',\n",
       " 'autofs.conf',\n",
       " 'ssh',\n",
       " 'ftpusers',\n",
       " 'postgres-reg.ini',\n",
       " 'slpsa.conf',\n",
       " 'profile',\n",
       " 'csh.cshrc',\n",
       " 'fstab.hd~previous',\n",
       " 'ntp.conf.applesaved',\n",
       " 'ntp_opendirectory.conf',\n",
       " 'ssh_config~orig',\n",
       " 'profile~orig',\n",
       " 'authorization.deprecated',\n",
       " 'locate.rc',\n",
       " 'resolv.conf',\n",
       " 'nfs.conf',\n",
       " 'crontab.applesaved',\n",
       " 'dictionaries-common',\n",
       " 'sudoers~orig',\n",
       " 'sudo_lecture',\n",
       " 'asl.conf',\n",
       " 'ttys.applesaved',\n",
       " 'moduli~previous',\n",
       " 'rc.netboot',\n",
       " 'afpovertcp.cfg~orig',\n",
       " 'hosts~orig',\n",
       " 'fstab',\n",
       " 'opt',\n",
       " 'nfs.conf~orig',\n",
       " 'hostconfig',\n",
       " 'smb.conf.old',\n",
       " 'kern_loader.conf~previous',\n",
       " 'xinetd.conf.applesaved',\n",
       " 'rtadvd.conf.applesaved',\n",
       " 'sshd_config.system_default',\n",
       " 'hosts',\n",
       " 'efax.rc~previous',\n",
       " 'postfix',\n",
       " 'pf.os',\n",
       " 'pf.anchors',\n",
       " 'php.ini.default-previous~orig',\n",
       " 'ntp.conf',\n",
       " 'php.ini.default-5.2-previous',\n",
       " 'gettytab~orig',\n",
       " 'passwd~orig',\n",
       " 'rpc',\n",
       " 'master.passwd',\n",
       " 'sshd_config~previous',\n",
       " 'openldap',\n",
       " 'aliases',\n",
       " 'paths~orig',\n",
       " 'fonts',\n",
       " 'openssl',\n",
       " 'com.apple.screensharing.agent.launchd',\n",
       " 'wfs',\n",
       " 'hostconfig.system_default',\n",
       " 'shells~orig',\n",
       " 'sshd_config.applesaved',\n",
       " 'dumpdates',\n",
       " 'protocols',\n",
       " 'AFP.conf',\n",
       " 'cups',\n",
       " 'man.conf',\n",
       " 'services',\n",
       " 'mail.rc~orig',\n",
       " 'resolver',\n",
       " 'uucp',\n",
       " 'passwd',\n",
       " 'zprofile',\n",
       " 'afpovertcp.cfg',\n",
       " 'newsyslog.conf',\n",
       " 'bashrc~previous',\n",
       " 'mail.rc',\n",
       " 'notify.conf',\n",
       " 'sysctl.conf.pg']"
      ]
     },
     "execution_count": 44,
     "metadata": {},
     "output_type": "execute_result"
    }
   ],
   "source": [
    "# to use a module from the standard library, we just have to import it. Then we have access to the variables,\n",
    "# functions, and data types defined in that module.\n",
    "\n",
    "import os\n",
    "\n",
    "os.listdir('/etc/')   # this will return a list of files in /etc/"
   ]
  },
  {
   "cell_type": "code",
   "execution_count": 46,
   "metadata": {},
   "outputs": [
    {
     "data": {
      "text/plain": [
       "['/etc/syslog.conf',\n",
       " '/etc/kern_loader.conf',\n",
       " '/etc/rtadvd.conf',\n",
       " '/etc/pf.conf',\n",
       " '/etc/launchd.conf',\n",
       " '/etc/autofs.conf',\n",
       " '/etc/slpsa.conf',\n",
       " '/etc/ntp_opendirectory.conf',\n",
       " '/etc/resolv.conf',\n",
       " '/etc/nfs.conf',\n",
       " '/etc/asl.conf',\n",
       " '/etc/ntp.conf',\n",
       " '/etc/AFP.conf',\n",
       " '/etc/man.conf',\n",
       " '/etc/newsyslog.conf',\n",
       " '/etc/notify.conf']"
      ]
     },
     "execution_count": 46,
     "metadata": {},
     "output_type": "execute_result"
    }
   ],
   "source": [
    "# If I'm using the terminal, I can say that I want all of the *.conf files\n",
    "# why can't I do that in Python?\n",
    "\n",
    "# I can, using another module, the glob module, which hanldes such patterns\n",
    "\n",
    "import glob\n",
    "glob.glob('/etc/*.conf')"
   ]
  },
  {
   "cell_type": "markdown",
   "metadata": {},
   "source": [
    "# Exercise: Globbing files\n",
    "\n",
    "1. Ask the user to enter a pattern for filenames. This will be a string.\n",
    "2. Iterate over each of the filenames that match the pattern the user gave, using `glob.glob`.\n",
    "3. Find the size of that file, and print it next to the filename. (Note: One easy way to get the length is to iterate over each line, adding it to the total size for that file.)\n",
    "\n",
    "Strategy:\n",
    "- Use a `for` loop for each filename\n",
    "- Use a `for` loop for each line in the opened file\n",
    "\n",
    "Example:\n",
    "\n",
    "    Enter pattern: /etc/*.conf\n",
    "    /etc/syslog.conf: 1000\n",
    "    /etc/kern_loader.conf 2000\n",
    "\n",
    "If you enter names of non-text files, the program will crash, so try to make your patterns tight enough that they just match some text files.   "
   ]
  },
  {
   "cell_type": "code",
   "execution_count": 49,
   "metadata": {},
   "outputs": [
    {
     "name": "stdin",
     "output_type": "stream",
     "text": [
      "Enter filename pattern:  /etc/[a-z]*.conf\n"
     ]
    },
    {
     "name": "stdout",
     "output_type": "stream",
     "text": [
      "/etc/syslog.conf: 96\n",
      "/etc/kern_loader.conf: 0\n",
      "/etc/rtadvd.conf: 891\n",
      "/etc/pf.conf: 1027\n",
      "/etc/launchd.conf: 19\n",
      "/etc/autofs.conf: 1932\n",
      "/etc/slpsa.conf: 52\n",
      "/etc/ntp_opendirectory.conf: 23\n",
      "/etc/resolv.conf: 368\n",
      "/etc/nfs.conf: 43\n",
      "/etc/asl.conf: 1051\n",
      "/etc/ntp.conf: 27\n",
      "/etc/man.conf: 2451\n",
      "/etc/newsyslog.conf: 1318\n",
      "/etc/notify.conf: 557\n"
     ]
    }
   ],
   "source": [
    "import glob\n",
    "\n",
    "pattern = input('Enter filename pattern: ').strip()\n",
    "\n",
    "for one_filename in glob.glob(pattern):\n",
    "    f = open(one_filename)\n",
    "\n",
    "    length = 0\n",
    "\n",
    "    for one_line in f:\n",
    "        length += len(one_line)\n",
    "\n",
    "    print(f'{one_filename}: {length}')"
   ]
  },
  {
   "cell_type": "markdown",
   "metadata": {},
   "source": [
    "# What's wrong with the standard library?\n",
    "\n",
    "1. It's only released/updated when there is a new Python release.\n",
    "2. It's managed by the core Python development team. This means that it can't be too big.\n",
    "3. It's released along with Python, so it definitely cannot be too big.\n",
    "\n",
    "As a result, we have a second place where you can get Python modules. Those are actually \"packages,\" entire directories that contain one or more modules, along with some metadata.\n",
    "\n",
    "PyPI, the Python Package Index, is where we get these things. PyPi.org is a great resource for the Python world!"
   ]
  },
  {
   "cell_type": "code",
   "execution_count": 50,
   "metadata": {},
   "outputs": [],
   "source": [
    "import rich"
   ]
  },
  {
   "cell_type": "code",
   "execution_count": 51,
   "metadata": {},
   "outputs": [
    {
     "data": {
      "text/plain": [
       "<module 'rich' from '/Users/reuven/.pyenv/versions/3.13.2/lib/python3.13/site-packages/rich/__init__.py'>"
      ]
     },
     "execution_count": 51,
     "metadata": {},
     "output_type": "execute_result"
    }
   ],
   "source": [
    "rich"
   ]
  },
  {
   "cell_type": "code",
   "execution_count": 52,
   "metadata": {},
   "outputs": [
    {
     "data": {
      "text/plain": [
       "['/Users/reuven/.pyenv/versions/3.13.2/lib/python313.zip',\n",
       " '/Users/reuven/.pyenv/versions/3.13.2/lib/python3.13',\n",
       " '/Users/reuven/.pyenv/versions/3.13.2/lib/python3.13/lib-dynload',\n",
       " '',\n",
       " '/Users/reuven/.pyenv/versions/3.13.2/lib/python3.13/site-packages']"
      ]
     },
     "execution_count": 52,
     "metadata": {},
     "output_type": "execute_result"
    }
   ],
   "source": [
    "sys.path"
   ]
  },
  {
   "cell_type": "code",
   "execution_count": 53,
   "metadata": {},
   "outputs": [
    {
     "data": {
      "text/html": [
       "<pre style=\"white-space:pre;overflow-x:auto;line-height:normal;font-family:Menlo,'DejaVu Sans Mono',consolas,'Courier New',monospace\">Hello to everyone out there!\n",
       "</pre>\n"
      ],
      "text/plain": [
       "Hello to everyone out there!\n"
      ]
     },
     "metadata": {},
     "output_type": "display_data"
    }
   ],
   "source": [
    "rich.print('Hello to everyone out there!')"
   ]
  },
  {
   "cell_type": "code",
   "execution_count": 54,
   "metadata": {},
   "outputs": [
    {
     "data": {
      "text/html": [
       "<pre style=\"white-space:pre;overflow-x:auto;line-height:normal;font-family:Menlo,'DejaVu Sans Mono',consolas,'Courier New',monospace\"><span style=\"color: #008000; text-decoration-color: #008000\">Hello</span> to <span style=\"color: #808000; text-decoration-color: #808000; background-color: #af00ff\">everyone</span> <span style=\"font-style: italic\">out there</span>!\n",
       "</pre>\n"
      ],
      "text/plain": [
       "\u001b[32mHello\u001b[0m to \u001b[33;48;5;129meveryone\u001b[0m \u001b[3mout there\u001b[0m!\n"
      ]
     },
     "metadata": {},
     "output_type": "display_data"
    }
   ],
   "source": [
    "rich.print('[green]Hello[/green] to [yellow on purple]everyone[/yellow on purple] [italic]out there[/italic]!')"
   ]
  },
  {
   "cell_type": "markdown",
   "metadata": {},
   "source": [
    "If `pip` doesn't work in your terminal, try \n",
    "\n",
    "    python3 -m pip install THING\n",
    "\n",
    "That should help `pip` to run."
   ]
  },
  {
   "cell_type": "markdown",
   "metadata": {},
   "source": [
    "# Things to consider about PyPI\n",
    "\n",
    "1. Anyone can contribute! So there is a lot of bad code.\n",
    "2. Finding the best packages can be challening. (We'll talk about this in a bit.)\n",
    "3. Some packages might be security issues!\n",
    "    - How popular is a project?\n",
    "    - How long has it been around?\n",
    "    - How many users does it have?\n",
    "    - How many contributors does it have?\n",
    "    - Check GitHub stars, commits, and the number of developers who have contributed\n",
    "4. What license is used for the project?\n",
    "    - Everything on PyPI is open source... but there are different open-source licenses\n",
    "    - GNU Public License tends to come under fire more -- it is \"viral,\" and if used in another project, makes the whole project open source, such that anyone can copy, modify, redistribute, or sell it."
   ]
  },
  {
   "cell_type": "markdown",
   "metadata": {},
   "source": [
    "# Next up\n",
    "\n",
    "- Practice a bit with PyPI and `pip`\n",
    "- A little bit about `uv`, a new alternative to `pip`\n",
    "- Awesome Python -- how to evaluate packages\n",
    "- Where to from here? And ... AMA"
   ]
  },
  {
   "cell_type": "markdown",
   "metadata": {},
   "source": [
    "# Installing with `pip`\n",
    "\n",
    "`pip` is a program that comes with Python, and you normally run it from the command line as\n",
    "\n",
    "    pip install THING\n",
    "\n",
    "or \n",
    "\n",
    "    python3 -m pip install THING\n",
    "\n",
    "If you're inside of Jupyter already, then you can use a \"magic command\" starting with `%` to run `pip` from inside of Jupyter.\n",
    "\n",
    "    %pip install THING\n",
    "\n",
    "After you do one of the above, you should be able to say\n",
    "\n",
    "    import THING"
   ]
  },
  {
   "cell_type": "markdown",
   "metadata": {},
   "source": [
    "# Exercise: Using `rich`\n",
    "\n",
    "1. Use `pip` to install `rich`.\n",
    "2. Use `rich.print` to display some text\n",
    "    - Include some `[color]` and `[/color]` instructions inside of the text you give to `rich.print`\n",
    "    - Include an emoji by having `:name:` inside of the string you give to `rich.print`."
   ]
  },
  {
   "cell_type": "code",
   "execution_count": 55,
   "metadata": {},
   "outputs": [
    {
     "name": "stdout",
     "output_type": "stream",
     "text": [
      "Requirement already satisfied: rich in /Users/reuven/.pyenv/versions/3.13.2/lib/python3.13/site-packages (13.9.4)\n",
      "Requirement already satisfied: markdown-it-py>=2.2.0 in /Users/reuven/.pyenv/versions/3.13.2/lib/python3.13/site-packages (from rich) (3.0.0)\n",
      "Requirement already satisfied: pygments<3.0.0,>=2.13.0 in /Users/reuven/.pyenv/versions/3.13.2/lib/python3.13/site-packages (from rich) (2.19.1)\n",
      "Requirement already satisfied: mdurl~=0.1 in /Users/reuven/.pyenv/versions/3.13.2/lib/python3.13/site-packages (from markdown-it-py>=2.2.0->rich) (0.1.2)\n",
      "Note: you may need to restart the kernel to use updated packages.\n"
     ]
    }
   ],
   "source": [
    "%pip install -U rich"
   ]
  },
  {
   "cell_type": "code",
   "execution_count": 58,
   "metadata": {},
   "outputs": [
    {
     "data": {
      "text/html": [
       "<pre style=\"white-space:pre;overflow-x:auto;line-height:normal;font-family:Menlo,'DejaVu Sans Mono',consolas,'Courier New',monospace\">Hello <span style=\"color: #800000; text-decoration-color: #800000\">this</span> <span style=\"color: #008000; text-decoration-color: #008000\">is</span> <span style=\"color: #af00ff; text-decoration-color: #af00ff\">fun!</span>, 😄\n",
       "</pre>\n"
      ],
      "text/plain": [
       "Hello \u001b[31mthis\u001b[0m \u001b[32mis\u001b[0m \u001b[38;5;129mfun!\u001b[0m, 😄\n"
      ]
     },
     "metadata": {},
     "output_type": "display_data"
    }
   ],
   "source": [
    "import rich\n",
    "\n",
    "rich.print(f'Hello [red]this[/red] [green]is[/green] [purple]fun![/purple], :smile:')"
   ]
  },
  {
   "cell_type": "markdown",
   "metadata": {},
   "source": [
    "# What next?\n",
    "\n",
    "The most important thing to do is: Practice as much as you can.\n",
    "\n",
    "- Do projects (even small ones!) that are interesting/useful for you.\n",
    "- Challenge yourself!\n",
    "\n",
    "Also take classes, read books, etc., but doing things is the best way to learn.\n",
    "\n",
    "If you want to do testing, you should learn \"pytest\". \n",
    "\n",
    "A few other things:\n",
    "- My site, https://PracticeYourPython.com, has a list of where you can get exercises to improve (includes my books and online courses)\n",
    "- Go to conferences!\n",
    "    - PyCon US is in Pittsburgh in mid-May\n",
    "    - Euro Python is in Prague in mid-July\n",
    "    - There are lots of small, regional conferences and meetups, and they are generally VERY friendly and helpful and encouraging\n",
    "- PyLadies -- encouraging of women in getting to coding with Python (and related technologies)\n",
    "\n"
   ]
  },
  {
   "cell_type": "markdown",
   "metadata": {},
   "source": [
    "# My stuff \n",
    "\n",
    "1. I have three newsletters I publish each week:\n",
    "    - Better developers, about Python (https://BetterDevelopersWeekly.com)\n",
    "    - Bamboo Weekly, with challenges in data analysis using Python + Pandas (https://BambooWeekly.com)\n",
    "    - Trainer Weekly, about being a trainer in software (https://TrainerWeekly.com)\n",
    "2. I can come to your company\n",
    "3. You can check out my learning platform at https://LernerPython.com "
   ]
  },
  {
   "cell_type": "markdown",
   "metadata": {},
   "source": [
    "Amazing UV lecture by Charlie Marsh: https://www.youtube.com/watch?v=gSKTfG1GXYQ"
   ]
  },
  {
   "cell_type": "code",
   "execution_count": null,
   "metadata": {},
   "outputs": [],
   "source": []
  }
 ],
 "metadata": {
  "kernelspec": {
   "display_name": "Python 3 (ipykernel)",
   "language": "python",
   "name": "python3"
  },
  "language_info": {
   "codemirror_mode": {
    "name": "ipython",
    "version": 3
   },
   "file_extension": ".py",
   "mimetype": "text/x-python",
   "name": "python",
   "nbconvert_exporter": "python",
   "pygments_lexer": "ipython3",
   "version": "3.13.2"
  }
 },
 "nbformat": 4,
 "nbformat_minor": 4
}
