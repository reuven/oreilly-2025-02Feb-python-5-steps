{
 "cells": [
  {
   "cell_type": "markdown",
   "metadata": {},
   "source": [
    "# Agenda, week 5: Modules and packages\n",
    "\n",
    "1. Q&A\n",
    "2. What is a module?\n",
    "    - Why do we want/need them?\n",
    "    - What do they contain?\n",
    "    - Using `import` to use a module's contents\n",
    "3. The different forms of `import`\n",
    "4. Developing our own module -- what's involved?\n",
    "5. Python's standard library\n",
    "    - What is it?\n",
    "    - What does it contain?\n",
    "    - How can we use it?\n",
    "    - Library vs. builtins\n",
    "6. Modules vs. packages\n",
    "7. PyPI and pip\n",
    "    - Downloading and installing packages from PyPI\n",
    "    - Finding good vs. bad packages on PyPI\n",
    "    - How do we use them?\n",
    "8. What next?\n",
    "    - Where can you learn more Python skills?\n",
    "    - How can/should you learn more Python skills?\n",
    "    - Practice, books, videos, strategies\n",
    "    - And: Ask me anything!\n"
   ]
  },
  {
   "cell_type": "markdown",
   "metadata": {},
   "source": [
    "# What is a module?\n",
    "\n",
    "DRY -- the rule of \"don't repeat yourself.\"\n",
    "\n",
    "1. If you have several lines of code that are almost the same, then you can replace them with a loop.\n",
    "2. If you have code that repeats itself in several places in your program, then you can replace them with a function.\n",
    "3. If you have code that repeats itself in several different programs, then you can use a *library*.\n",
    "\n",
    "Every programming language supports libraries. This way:\n",
    "\n",
    "- If you have code that you'll use in several programs, you can write it once, and use it many times. (You can also debug it once, and have those fixes/improvements automatically get to be used in all programs at once.)\n",
    "- You can write a library that other people will use, so that they don't have to reinvent the wheel.\n",
    "- The reverse is true: You can use a library that other people have written, so that you don't have to reinvent the wheel.\n",
    "\n",
    "In Python, we call our libraries *modules*. Modules provide us with all of these advantages.\n",
    "\n",
    "(Sometimes, we call it a package. We'll talk about that later. Spoiler: A package is a directory/folder containing multiple module files.)\n",
    "\n",
    "In addition to these advantages, Python modules also act as *namespaces*. The idea is that each module can define variables and functions with the same names, and they won't conflict with one another. A namespace is kind of like a last name for variables/functions. It means that we aren't going to have a \"namespace collision.\"\n",
    "\n",
    "It's a rare Python program that doesn't use any modules."
   ]
  },
  {
   "cell_type": "markdown",
   "metadata": {},
   "source": [
    "# What does a module contain?\n",
    "\n",
    "Any Python code we want, but mostly/usually, it'll contain definitions:\n",
    "\n",
    "- Variable definitions, for things we'll want to use frequently\n",
    "- Function definitions, for functions we'll want to use frequently\n",
    "- Class definitions, if you (or someone else) wants to define new types of data structures.\n",
    "\n",
    "We load a module using the `import` statement, and that gives us access to those variables, functions, and classes."
   ]
  },
  {
   "cell_type": "markdown",
   "metadata": {},
   "source": [
    "# Example: The `random` module\n",
    "\n",
    "If I want a random number, then I could write my own random-number generating function. But that's going to be very hard and time consuming, if I can even get it right.\n",
    "\n",
    "Instead, I can use the `random` module that comes with Python (in the \"standard library\"), and I can use it.\n",
    "\n",
    "If I want to load this module, I use the `import` statement."
   ]
  },
  {
   "cell_type": "code",
   "execution_count": 1,
   "metadata": {},
   "outputs": [],
   "source": [
    "import random"
   ]
  },
  {
   "cell_type": "markdown",
   "metadata": {},
   "source": [
    "I just imported the `random` module!\n",
    "\n",
    "- `import` is a reserved keyword in Python; you cannot use it as a variable or function name.\n",
    "- It is not a function! It is a statement. That's why you don't need to use `()` around the module name.\n",
    "- The module name that we put after `import` is *not* a string! It is not a filename! In many other programming languages, we load a module by stating the name of the file we want to load. In Python, we say what module variable we want to define, and Python figures out what filename we want from that.\n",
    "- After this line, `random` is a variable that we have defined, and it contains a module value.\n",
    "- Once we've imported the module, it is available to our program as much as we want.\n",
    "\n",
    "But how do I use the module? \n",
    "\n",
    "A module is a container for other values -- variables, functions, and data types. Each of those names is available via the module by adding a `.` to the module name and then giving the name of the variable, function, or data type we want.\n",
    "\n",
    "For example, there's a function called `randint` in the `random` module. To invoke it, we say\n",
    "\n",
    "    random.randint(0, 100)    # this returns a random number from 0 through 100\n",
    "\n",
    "    "
   ]
  },
  {
   "cell_type": "code",
   "execution_count": 4,
   "metadata": {},
   "outputs": [
    {
     "data": {
      "text/plain": [
       "86"
      ]
     },
     "execution_count": 4,
     "metadata": {},
     "output_type": "execute_result"
    }
   ],
   "source": [
    "random.randint(0, 100)"
   ]
  },
  {
   "cell_type": "markdown",
   "metadata": {},
   "source": [
    "# How do I know what names are in a module?\n",
    "\n",
    "A few possibilities:\n",
    "\n",
    "1. If we're in Jupyter (or the equivalent), we can use the `dir` function on a module to get a list of names that are available on it.\n",
    "    - names in `ALL CAPS` are \"constants,\" meaning that you shouldn't change their values\n",
    "    - names that `_start` with one `_` are considered \"private,\" meaning that you shouldn't use them unless you are willing to risk things, because they could change\n",
    "    - names that `__start_and_end__` with a double `__` are mostly for internal use, although you can use/set them if you know what you're doing\n",
    "    - We still don't know what are functions vs. values vs. data types without investigating more.\n",
    "3. Use the `help` function on our module to get its documentation."
   ]
  },
  {
   "cell_type": "code",
   "execution_count": 5,
   "metadata": {},
   "outputs": [
    {
     "data": {
      "text/plain": [
       "['BPF',\n",
       " 'LOG4',\n",
       " 'NV_MAGICCONST',\n",
       " 'RECIP_BPF',\n",
       " 'Random',\n",
       " 'SG_MAGICCONST',\n",
       " 'SystemRandom',\n",
       " 'TWOPI',\n",
       " '_ONE',\n",
       " '_Sequence',\n",
       " '__all__',\n",
       " '__builtins__',\n",
       " '__cached__',\n",
       " '__doc__',\n",
       " '__file__',\n",
       " '__loader__',\n",
       " '__name__',\n",
       " '__package__',\n",
       " '__spec__',\n",
       " '_accumulate',\n",
       " '_acos',\n",
       " '_bisect',\n",
       " '_ceil',\n",
       " '_cos',\n",
       " '_e',\n",
       " '_exp',\n",
       " '_fabs',\n",
       " '_floor',\n",
       " '_index',\n",
       " '_inst',\n",
       " '_isfinite',\n",
       " '_lgamma',\n",
       " '_log',\n",
       " '_log2',\n",
       " '_os',\n",
       " '_parse_args',\n",
       " '_pi',\n",
       " '_random',\n",
       " '_repeat',\n",
       " '_sha512',\n",
       " '_sin',\n",
       " '_sqrt',\n",
       " '_test',\n",
       " '_test_generator',\n",
       " '_urandom',\n",
       " 'betavariate',\n",
       " 'binomialvariate',\n",
       " 'choice',\n",
       " 'choices',\n",
       " 'expovariate',\n",
       " 'gammavariate',\n",
       " 'gauss',\n",
       " 'getrandbits',\n",
       " 'getstate',\n",
       " 'lognormvariate',\n",
       " 'main',\n",
       " 'normalvariate',\n",
       " 'paretovariate',\n",
       " 'randbytes',\n",
       " 'randint',\n",
       " 'random',\n",
       " 'randrange',\n",
       " 'sample',\n",
       " 'seed',\n",
       " 'setstate',\n",
       " 'shuffle',\n",
       " 'triangular',\n",
       " 'uniform',\n",
       " 'vonmisesvariate',\n",
       " 'weibullvariate']"
      ]
     },
     "execution_count": 5,
     "metadata": {},
     "output_type": "execute_result"
    }
   ],
   "source": [
    "dir(random)"
   ]
  },
  {
   "cell_type": "code",
   "execution_count": null,
   "metadata": {},
   "outputs": [],
   "source": []
  }
 ],
 "metadata": {
  "kernelspec": {
   "display_name": "Python 3 (ipykernel)",
   "language": "python",
   "name": "python3"
  },
  "language_info": {
   "codemirror_mode": {
    "name": "ipython",
    "version": 3
   },
   "file_extension": ".py",
   "mimetype": "text/x-python",
   "name": "python",
   "nbconvert_exporter": "python",
   "pygments_lexer": "ipython3",
   "version": "3.13.2"
  }
 },
 "nbformat": 4,
 "nbformat_minor": 4
}
